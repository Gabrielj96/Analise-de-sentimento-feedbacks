{
 "cells": [
  {
   "cell_type": "markdown",
   "metadata": {},
   "source": [
    "## Importando Bibliotecas e Base de Dados"
   ]
  },
  {
   "cell_type": "code",
   "execution_count": 1,
   "metadata": {},
   "outputs": [],
   "source": [
    "# bibliotecas padrões\n",
    "import pandas as pd\n",
    "import numpy as np\n",
    "import matplotlib.pyplot as plt\n",
    "import seaborn as sns\n",
    "%matplotlib inline\n",
    "\n",
    "# bibliotecas para NLP\n",
    "import nltk\n",
    "from nltk import FreqDist\n",
    "from nltk.tokenize import word_tokenize\n",
    "from nltk.stem import WordNetLemmatizer\n",
    "import re\n",
    "from unidecode import unidecode\n",
    "from nltk.corpus import stopwords\n",
    "from spacy.lang.pt.stop_words import STOP_WORDS\n",
    "from sklearn.feature_extraction.text import TfidfVectorizer\n",
    "\n",
    "# bibliotecas para modelagem\n",
    "from sklearn.svm import SVC\n",
    "from sklearn.metrics import precision_recall_fscore_support, classification_report\n",
    "from sklearn.preprocessing import LabelEncoder\n",
    "from sklearn.model_selection import KFold, cross_validate\n",
    "\n",
    "dados = pd.read_csv('final_dados_feedbacks.csv')"
   ]
  },
  {
   "cell_type": "code",
   "execution_count": 2,
   "metadata": {},
   "outputs": [
    {
     "data": {
      "text/html": [
       "<div>\n",
       "<style scoped>\n",
       "    .dataframe tbody tr th:only-of-type {\n",
       "        vertical-align: middle;\n",
       "    }\n",
       "\n",
       "    .dataframe tbody tr th {\n",
       "        vertical-align: top;\n",
       "    }\n",
       "\n",
       "    .dataframe thead th {\n",
       "        text-align: right;\n",
       "    }\n",
       "</style>\n",
       "<table border=\"1\" class=\"dataframe\">\n",
       "  <thead>\n",
       "    <tr style=\"text-align: right;\">\n",
       "      <th></th>\n",
       "      <th>Data</th>\n",
       "      <th>Feedback</th>\n",
       "      <th>Perguntas</th>\n",
       "      <th>Sentimento</th>\n",
       "    </tr>\n",
       "  </thead>\n",
       "  <tbody>\n",
       "    <tr>\n",
       "      <th>0</th>\n",
       "      <td>28/03/2020</td>\n",
       "      <td>Não</td>\n",
       "      <td>Sobre o OpenTalk, com Robson del Fiol. Você te...</td>\n",
       "      <td>positivo</td>\n",
       "    </tr>\n",
       "    <tr>\n",
       "      <th>1</th>\n",
       "      <td>29/03/2020</td>\n",
       "      <td>Eu indicaria ele abordar um tema novo, não só ...</td>\n",
       "      <td>Sobre o OpenTalk, com Robson del Fiol. Você te...</td>\n",
       "      <td>negativo</td>\n",
       "    </tr>\n",
       "    <tr>\n",
       "      <th>2</th>\n",
       "      <td>04/04/2020</td>\n",
       "      <td>As histórias que ele conta e a maneira como ab...</td>\n",
       "      <td>Sobre a palestra do Caê: Liderança Pessoal [CO...</td>\n",
       "      <td>positivo</td>\n",
       "    </tr>\n",
       "    <tr>\n",
       "      <th>3</th>\n",
       "      <td>04/04/2020</td>\n",
       "      <td>Adorei as coisas que ele falou, foi muuuito le...</td>\n",
       "      <td>Sobre a palestra do Caê: Liderança Pessoal [CO...</td>\n",
       "      <td>positivo</td>\n",
       "    </tr>\n",
       "    <tr>\n",
       "      <th>4</th>\n",
       "      <td>04/04/2020</td>\n",
       "      <td>Só agradecimento, cada vez que falo com o Sérg...</td>\n",
       "      <td>Sobre a palestra do Caê: Liderança Pessoal [CO...</td>\n",
       "      <td>positivo</td>\n",
       "    </tr>\n",
       "  </tbody>\n",
       "</table>\n",
       "</div>"
      ],
      "text/plain": [
       "         Data                                           Feedback  \\\n",
       "0  28/03/2020                                                Não   \n",
       "1  29/03/2020  Eu indicaria ele abordar um tema novo, não só ...   \n",
       "2  04/04/2020  As histórias que ele conta e a maneira como ab...   \n",
       "3  04/04/2020  Adorei as coisas que ele falou, foi muuuito le...   \n",
       "4  04/04/2020  Só agradecimento, cada vez que falo com o Sérg...   \n",
       "\n",
       "                                           Perguntas Sentimento  \n",
       "0  Sobre o OpenTalk, com Robson del Fiol. Você te...   positivo  \n",
       "1  Sobre o OpenTalk, com Robson del Fiol. Você te...   negativo  \n",
       "2  Sobre a palestra do Caê: Liderança Pessoal [CO...   positivo  \n",
       "3  Sobre a palestra do Caê: Liderança Pessoal [CO...   positivo  \n",
       "4  Sobre a palestra do Caê: Liderança Pessoal [CO...   positivo  "
      ]
     },
     "execution_count": 2,
     "metadata": {},
     "output_type": "execute_result"
    }
   ],
   "source": [
    "dados.head()"
   ]
  },
  {
   "cell_type": "code",
   "execution_count": 3,
   "metadata": {},
   "outputs": [
    {
     "data": {
      "text/plain": [
       "(1180, 4)"
      ]
     },
     "execution_count": 3,
     "metadata": {},
     "output_type": "execute_result"
    }
   ],
   "source": [
    "dados.shape"
   ]
  },
  {
   "cell_type": "markdown",
   "metadata": {},
   "source": [
    "## Limpeza do Texto"
   ]
  },
  {
   "cell_type": "code",
   "execution_count": 4,
   "metadata": {},
   "outputs": [],
   "source": [
    "# Eliminando perguntas que não fazem sentido do dataframe\n",
    "dados = dados.loc[(dados['Perguntas'] != 'Escreva uma autoavaliação da sua EXECUÇÃO na etapa de PROTOTIPAGEM (VimVer)') &\n",
    "         (dados['Perguntas'] != 'Escreva uma autoavaliação da sua execução na etapa de MAPEAMENTO (VimVer). OBS: Etapa iniciada no penúltimo encontro.') &\n",
    "         (dados['Perguntas'] != 'Escreva uma autoavaliação da sua EXECUÇÃO na etapa de IDEAÇÃO (VimVer). OBS: Etapa iniciada no penúltimo encontro.') &\n",
    "         (dados['Perguntas'] != 'Escreva uma autoavaliação da sua EXECUÇÃO na etapa de EXPERIMENTAÇÃO (VimVer)')]"
   ]
  },
  {
   "cell_type": "code",
   "execution_count": 5,
   "metadata": {},
   "outputs": [
    {
     "data": {
      "text/html": [
       "<div>\n",
       "<style scoped>\n",
       "    .dataframe tbody tr th:only-of-type {\n",
       "        vertical-align: middle;\n",
       "    }\n",
       "\n",
       "    .dataframe tbody tr th {\n",
       "        vertical-align: top;\n",
       "    }\n",
       "\n",
       "    .dataframe thead th {\n",
       "        text-align: right;\n",
       "    }\n",
       "</style>\n",
       "<table border=\"1\" class=\"dataframe\">\n",
       "  <thead>\n",
       "    <tr style=\"text-align: right;\">\n",
       "      <th></th>\n",
       "      <th>Data</th>\n",
       "      <th>Feedback</th>\n",
       "      <th>Sentimento</th>\n",
       "    </tr>\n",
       "  </thead>\n",
       "  <tbody>\n",
       "    <tr>\n",
       "      <th>0</th>\n",
       "      <td>28/03/2020</td>\n",
       "      <td>nao</td>\n",
       "      <td>positivo</td>\n",
       "    </tr>\n",
       "    <tr>\n",
       "      <th>1</th>\n",
       "      <td>29/03/2020</td>\n",
       "      <td>eu indicaria ele abordar um tema novo, nao so ...</td>\n",
       "      <td>negativo</td>\n",
       "    </tr>\n",
       "    <tr>\n",
       "      <th>2</th>\n",
       "      <td>04/04/2020</td>\n",
       "      <td>as historias que ele conta e a maneira como ab...</td>\n",
       "      <td>positivo</td>\n",
       "    </tr>\n",
       "    <tr>\n",
       "      <th>3</th>\n",
       "      <td>04/04/2020</td>\n",
       "      <td>adorei as coisas que ele falou, foi muuuito le...</td>\n",
       "      <td>positivo</td>\n",
       "    </tr>\n",
       "  </tbody>\n",
       "</table>\n",
       "</div>"
      ],
      "text/plain": [
       "         Data                                           Feedback Sentimento\n",
       "0  28/03/2020                                                nao   positivo\n",
       "1  29/03/2020  eu indicaria ele abordar um tema novo, nao so ...   negativo\n",
       "2  04/04/2020  as historias que ele conta e a maneira como ab...   positivo\n",
       "3  04/04/2020  adorei as coisas que ele falou, foi muuuito le...   positivo"
      ]
     },
     "execution_count": 5,
     "metadata": {},
     "output_type": "execute_result"
    }
   ],
   "source": [
    "dados.Feedback = dados.Feedback.str.lower()\n",
    "dados['Feedback'] = dados['Feedback'].apply(lambda x: unidecode(x))\n",
    "dados[['Data', 'Feedback', 'Sentimento']].head(4)"
   ]
  },
  {
   "cell_type": "code",
   "execution_count": 6,
   "metadata": {},
   "outputs": [],
   "source": [
    "def RemovePunctuation(feedback):\n",
    "    feedback = re.sub(r\"[-|0-9]\", \"\", feedback).lower()\n",
    "    feedback = re.sub(r'[-./?!,\":;()\\']', ' ', feedback).lower()\n",
    "    return (feedback)\n",
    "\n",
    "lista_feedback = []\n",
    "lista_feedback = [RemovePunctuation(feedback) for feedback in dados.Feedback]\n",
    "\n",
    "dados.Feedback = lista_feedback"
   ]
  },
  {
   "cell_type": "code",
   "execution_count": 7,
   "metadata": {},
   "outputs": [
    {
     "data": {
      "text/html": [
       "<div>\n",
       "<style scoped>\n",
       "    .dataframe tbody tr th:only-of-type {\n",
       "        vertical-align: middle;\n",
       "    }\n",
       "\n",
       "    .dataframe tbody tr th {\n",
       "        vertical-align: top;\n",
       "    }\n",
       "\n",
       "    .dataframe thead th {\n",
       "        text-align: right;\n",
       "    }\n",
       "</style>\n",
       "<table border=\"1\" class=\"dataframe\">\n",
       "  <thead>\n",
       "    <tr style=\"text-align: right;\">\n",
       "      <th></th>\n",
       "      <th>Data</th>\n",
       "      <th>Feedback</th>\n",
       "      <th>Sentimento</th>\n",
       "    </tr>\n",
       "  </thead>\n",
       "  <tbody>\n",
       "    <tr>\n",
       "      <th>0</th>\n",
       "      <td>28/03/2020</td>\n",
       "      <td>nao</td>\n",
       "      <td>positivo</td>\n",
       "    </tr>\n",
       "    <tr>\n",
       "      <th>1</th>\n",
       "      <td>29/03/2020</td>\n",
       "      <td>eu indicaria ele abordar um tema novo nao so o...</td>\n",
       "      <td>negativo</td>\n",
       "    </tr>\n",
       "    <tr>\n",
       "      <th>2</th>\n",
       "      <td>04/04/2020</td>\n",
       "      <td>as historias que ele conta e a maneira como ab...</td>\n",
       "      <td>positivo</td>\n",
       "    </tr>\n",
       "    <tr>\n",
       "      <th>3</th>\n",
       "      <td>04/04/2020</td>\n",
       "      <td>adorei as coisas que ele falou foi muuuito leg...</td>\n",
       "      <td>positivo</td>\n",
       "    </tr>\n",
       "  </tbody>\n",
       "</table>\n",
       "</div>"
      ],
      "text/plain": [
       "         Data                                           Feedback Sentimento\n",
       "0  28/03/2020                                                nao   positivo\n",
       "1  29/03/2020  eu indicaria ele abordar um tema novo nao so o...   negativo\n",
       "2  04/04/2020  as historias que ele conta e a maneira como ab...   positivo\n",
       "3  04/04/2020  adorei as coisas que ele falou foi muuuito leg...   positivo"
      ]
     },
     "execution_count": 7,
     "metadata": {},
     "output_type": "execute_result"
    }
   ],
   "source": [
    "dados['Feedback'] = dados['Feedback'].apply(lambda x: x.strip())\n",
    "dados['Feedback'] = dados['Feedback'].apply(lambda x: x.replace(\"  \", \" \"))\n",
    "dados[['Data', 'Feedback', 'Sentimento']].head(4)"
   ]
  },
  {
   "cell_type": "code",
   "execution_count": 8,
   "metadata": {},
   "outputs": [
    {
     "data": {
      "text/plain": [
       "(784, 4)"
      ]
     },
     "execution_count": 8,
     "metadata": {},
     "output_type": "execute_result"
    }
   ],
   "source": [
    "dados.drop_duplicates(subset=['Feedback'], inplace=True)\n",
    "dados.shape"
   ]
  },
  {
   "cell_type": "markdown",
   "metadata": {},
   "source": [
    "## Pré-Processamento"
   ]
  },
  {
   "cell_type": "code",
   "execution_count": 9,
   "metadata": {},
   "outputs": [],
   "source": [
    "nlp = word_tokenize"
   ]
  },
  {
   "cell_type": "code",
   "execution_count": 10,
   "metadata": {},
   "outputs": [
    {
     "data": {
      "text/html": [
       "<div>\n",
       "<style scoped>\n",
       "    .dataframe tbody tr th:only-of-type {\n",
       "        vertical-align: middle;\n",
       "    }\n",
       "\n",
       "    .dataframe tbody tr th {\n",
       "        vertical-align: top;\n",
       "    }\n",
       "\n",
       "    .dataframe thead th {\n",
       "        text-align: right;\n",
       "    }\n",
       "</style>\n",
       "<table border=\"1\" class=\"dataframe\">\n",
       "  <thead>\n",
       "    <tr style=\"text-align: right;\">\n",
       "      <th></th>\n",
       "      <th>Data</th>\n",
       "      <th>Feedback</th>\n",
       "      <th>Sentimento</th>\n",
       "      <th>Contagem_palavras</th>\n",
       "    </tr>\n",
       "  </thead>\n",
       "  <tbody>\n",
       "    <tr>\n",
       "      <th>0</th>\n",
       "      <td>28/03/2020</td>\n",
       "      <td>nao</td>\n",
       "      <td>positivo</td>\n",
       "      <td>1</td>\n",
       "    </tr>\n",
       "    <tr>\n",
       "      <th>1</th>\n",
       "      <td>29/03/2020</td>\n",
       "      <td>eu indicaria ele abordar um tema novo nao so o...</td>\n",
       "      <td>negativo</td>\n",
       "      <td>24</td>\n",
       "    </tr>\n",
       "    <tr>\n",
       "      <th>2</th>\n",
       "      <td>04/04/2020</td>\n",
       "      <td>as historias que ele conta e a maneira como ab...</td>\n",
       "      <td>positivo</td>\n",
       "      <td>12</td>\n",
       "    </tr>\n",
       "    <tr>\n",
       "      <th>3</th>\n",
       "      <td>04/04/2020</td>\n",
       "      <td>adorei as coisas que ele falou foi muuuito leg...</td>\n",
       "      <td>positivo</td>\n",
       "      <td>12</td>\n",
       "    </tr>\n",
       "  </tbody>\n",
       "</table>\n",
       "</div>"
      ],
      "text/plain": [
       "         Data                                           Feedback Sentimento  \\\n",
       "0  28/03/2020                                                nao   positivo   \n",
       "1  29/03/2020  eu indicaria ele abordar um tema novo nao so o...   negativo   \n",
       "2  04/04/2020  as historias que ele conta e a maneira como ab...   positivo   \n",
       "3  04/04/2020  adorei as coisas que ele falou foi muuuito leg...   positivo   \n",
       "\n",
       "   Contagem_palavras  \n",
       "0                  1  \n",
       "1                 24  \n",
       "2                 12  \n",
       "3                 12  "
      ]
     },
     "execution_count": 10,
     "metadata": {},
     "output_type": "execute_result"
    }
   ],
   "source": [
    "dados['Contagem_palavras'] = dados['Feedback'].apply(lambda x: len(str(x).split(\" \")))\n",
    "dados[['Data', 'Feedback', 'Sentimento', 'Contagem_palavras']].head(4)"
   ]
  },
  {
   "cell_type": "code",
   "execution_count": 48,
   "metadata": {},
   "outputs": [],
   "source": [
    "def RemoveStopWords(feedback):\n",
    "    palavras = [i for i in feedback.split() if not i in corr_palavras]\n",
    "    return (\" \".join(palavras))"
   ]
  },
  {
   "cell_type": "code",
   "execution_count": 49,
   "metadata": {},
   "outputs": [],
   "source": [
    "lemmatizer = WordNetLemmatizer()\n",
    "def Lemmatization(feedback):\n",
    "  palavras = []\n",
    "  for w in feedback.split():\n",
    "    palavras.append(lemmatizer.lemmatize(w))\n",
    "  return (\" \".join(palavras))"
   ]
  },
  {
   "cell_type": "markdown",
   "metadata": {},
   "source": [
    "## Balanceando Dados"
   ]
  },
  {
   "cell_type": "code",
   "execution_count": 50,
   "metadata": {},
   "outputs": [
    {
     "data": {
      "text/plain": [
       "positivo    600\n",
       "negativo    184\n",
       "Name: Sentimento, dtype: int64"
      ]
     },
     "execution_count": 50,
     "metadata": {},
     "output_type": "execute_result"
    }
   ],
   "source": [
    "dados.Sentimento.value_counts()"
   ]
  },
  {
   "cell_type": "code",
   "execution_count": 51,
   "metadata": {},
   "outputs": [],
   "source": [
    "sentimento=['Negativo', 'Positivo']\n",
    "le = LabelEncoder()\n",
    "le.fit(dados['Sentimento'])\n",
    "target_encoded = le.transform(dados['Sentimento'])"
   ]
  },
  {
   "cell_type": "code",
   "execution_count": 52,
   "metadata": {},
   "outputs": [],
   "source": [
    "dados['target_encoded'] = target_encoded"
   ]
  },
  {
   "cell_type": "code",
   "execution_count": 53,
   "metadata": {},
   "outputs": [
    {
     "data": {
      "text/plain": [
       "1    600\n",
       "0    184\n",
       "Name: target_encoded, dtype: int64"
      ]
     },
     "execution_count": 53,
     "metadata": {},
     "output_type": "execute_result"
    }
   ],
   "source": [
    "dados.target_encoded.value_counts()"
   ]
  },
  {
   "cell_type": "code",
   "execution_count": 54,
   "metadata": {},
   "outputs": [],
   "source": [
    "count_class_1, count_class_0 = dados.target_encoded.value_counts()"
   ]
  },
  {
   "cell_type": "code",
   "execution_count": 55,
   "metadata": {},
   "outputs": [],
   "source": [
    "# Divide by class\n",
    "dados_class_0 = dados[dados['target_encoded'] == 0]\n",
    "dados_class_1 = dados[dados['target_encoded'] == 1]"
   ]
  },
  {
   "cell_type": "code",
   "execution_count": 56,
   "metadata": {},
   "outputs": [
    {
     "name": "stdout",
     "output_type": "stream",
     "text": [
      "Random under-sampling:\n",
      "1    184\n",
      "0    184\n",
      "Name: target_encoded, dtype: int64\n"
     ]
    },
    {
     "data": {
      "image/png": "[encoded data removed]",
      "text/plain": [
       "<Figure size 432x288 with 1 Axes>"
      ]
     },
     "metadata": {
      "needs_background": "light"
     },
     "output_type": "display_data"
    }
   ],
   "source": [
    "dados_class_0_under = dados_class_0.sample(count_class_0, random_state=42)\n",
    "dados_class_1_under = dados_class_1.sample(count_class_0, random_state=42)\n",
    "dados = pd.concat([dados_class_0_under, dados_class_1_under], axis=0)\n",
    "\n",
    "print('Random under-sampling:')\n",
    "print(dados.target_encoded.value_counts())\n",
    "\n",
    "dados.target_encoded.value_counts().plot(kind='bar', title='Frequência(target)');"
   ]
  },
  {
   "cell_type": "markdown",
   "metadata": {},
   "source": [
    "## Validando Modelo"
   ]
  },
  {
   "cell_type": "code",
   "execution_count": 57,
   "metadata": {},
   "outputs": [],
   "source": [
    "# função para transformar o texto em Matrix Count e TFIDF\n",
    "def bow(feedbacks):\n",
    "    bag_of_words_transformer = TfidfVectorizer()\n",
    "    mx = bag_of_words_transformer.fit_transform(feedbacks).todense()\n",
    "    terms = bag_of_words_transformer.get_feature_names()\n",
    "    dados_tfidf = pd.DataFrame(mx, columns=terms, index=feedbacks)\n",
    "    \n",
    "    return (dados_tfidf)"
   ]
  },
  {
   "cell_type": "code",
   "execution_count": 58,
   "metadata": {},
   "outputs": [],
   "source": [
    "dados = dados[dados['Contagem_palavras'] > 2]"
   ]
  },
  {
   "cell_type": "code",
   "execution_count": 59,
   "metadata": {},
   "outputs": [],
   "source": [
    "feedback_lem = dados['Feedback'].apply(lambda x: Lemmatization(x))\n",
    "dados_tfidf = bow(feedback_lem)\n",
    "target_encoded = dados['target_encoded']"
   ]
  },
  {
   "cell_type": "code",
   "execution_count": 60,
   "metadata": {},
   "outputs": [],
   "source": [
    "dados_corr = dados_tfidf.copy()\n",
    "dados_corr['target_encoded'] = list(target_encoded)"
   ]
  },
  {
   "cell_type": "code",
   "execution_count": 61,
   "metadata": {},
   "outputs": [],
   "source": [
    "corr = dados_corr.corr()\n",
    "corr_palavras = list(corr[(corr['target_encoded'] < 0.06) & (corr['target_encoded'] > -0.06)].index)"
   ]
  },
  {
   "cell_type": "code",
   "execution_count": 62,
   "metadata": {},
   "outputs": [],
   "source": [
    "df = pd.DataFrame(data={\"Palavras_corr\": corr_palavras})\n",
    "df.to_csv(\"./palavras_corr.csv\", sep=',',index=False)"
   ]
  },
  {
   "cell_type": "code",
   "execution_count": 63,
   "metadata": {},
   "outputs": [],
   "source": [
    "lista_feedback = []\n",
    "lista_feedback = [RemoveStopWords(feedback) for feedback in dados.Feedback]"
   ]
  },
  {
   "cell_type": "code",
   "execution_count": 64,
   "metadata": {},
   "outputs": [],
   "source": [
    "dados['Feedback_palavras_irrelevantes'] = lista_feedback"
   ]
  },
  {
   "cell_type": "code",
   "execution_count": 65,
   "metadata": {},
   "outputs": [],
   "source": [
    "# função para transformar o texto em Matrix Count e TFIDF\n",
    "def bow(feedbacks):\n",
    "    bag_of_words_transformer = TfidfVectorizer(binary=True, max_features=550,\n",
    "                                               smooth_idf=False, sublinear_tf=True)\n",
    "    mx = bag_of_words_transformer.fit_transform(feedbacks).todense()\n",
    "    terms = bag_of_words_transformer.get_feature_names()\n",
    "    dados_tfidf = pd.DataFrame(mx, columns=terms, index=feedbacks)\n",
    "    \n",
    "    return (dados_tfidf)"
   ]
  },
  {
   "cell_type": "code",
   "execution_count": 66,
   "metadata": {},
   "outputs": [],
   "source": [
    "feedback_lem = dados['Feedback_palavras_irrelevantes'].apply(lambda x: Lemmatization(x))\n",
    "dados_tfidf = bow(feedback_lem)"
   ]
  },
  {
   "cell_type": "code",
   "execution_count": 67,
   "metadata": {},
   "outputs": [],
   "source": [
    "svc = SVC(random_state=42, probability=True)"
   ]
  },
  {
   "cell_type": "code",
   "execution_count": 68,
   "metadata": {},
   "outputs": [
    {
     "data": {
      "text/html": [
       "<div>\n",
       "<style scoped>\n",
       "    .dataframe tbody tr th:only-of-type {\n",
       "        vertical-align: middle;\n",
       "    }\n",
       "\n",
       "    .dataframe tbody tr th {\n",
       "        vertical-align: top;\n",
       "    }\n",
       "\n",
       "    .dataframe thead th {\n",
       "        text-align: right;\n",
       "    }\n",
       "</style>\n",
       "<table border=\"1\" class=\"dataframe\">\n",
       "  <thead>\n",
       "    <tr style=\"text-align: right;\">\n",
       "      <th></th>\n",
       "      <th>test_f1_macro</th>\n",
       "      <th>test_f1_weighted</th>\n",
       "      <th>test_recall_macro</th>\n",
       "      <th>test_precision_macro</th>\n",
       "      <th>test_accuracy</th>\n",
       "    </tr>\n",
       "  </thead>\n",
       "  <tbody>\n",
       "    <tr>\n",
       "      <th>TFIDF</th>\n",
       "      <td>0.881163</td>\n",
       "      <td>0.88126</td>\n",
       "      <td>0.880888</td>\n",
       "      <td>0.884154</td>\n",
       "      <td>0.881469</td>\n",
       "    </tr>\n",
       "  </tbody>\n",
       "</table>\n",
       "</div>"
      ],
      "text/plain": [
       "       test_f1_macro  test_f1_weighted  test_recall_macro  \\\n",
       "TFIDF       0.881163           0.88126           0.880888   \n",
       "\n",
       "       test_precision_macro  test_accuracy  \n",
       "TFIDF              0.884154       0.881469  "
      ]
     },
     "execution_count": 68,
     "metadata": {},
     "output_type": "execute_result"
    }
   ],
   "source": [
    "# scores TFIDF Vectorizer\n",
    "scores_tfidf = cross_validate(svc, dados_tfidf, target_encoded, cv=5,\n",
    "                        scoring=('f1_macro', 'f1_weighted', 'recall_macro', 'precision_macro', 'accuracy'))\n",
    "\n",
    "scores_tfidf = pd.DataFrame.from_dict(scores_tfidf)\n",
    "\n",
    "scores_tfidf = pd.DataFrame(scores_tfidf.mean()).T\n",
    "scores_tfidf.index = ['TFIDF']\n",
    "scores_tfidf.drop(columns=['fit_time', 'score_time'], inplace=True)\n",
    "scores_tfidf"
   ]
  },
  {
   "cell_type": "markdown",
   "metadata": {},
   "source": [
    "## Deploy do Modelo"
   ]
  },
  {
   "cell_type": "code",
   "execution_count": 69,
   "metadata": {},
   "outputs": [],
   "source": [
    "from joblib import dump, load"
   ]
  },
  {
   "cell_type": "code",
   "execution_count": 70,
   "metadata": {},
   "outputs": [
    {
     "data": {
      "text/plain": [
       "TfidfVectorizer(binary=True, max_features=550, smooth_idf=False,\n",
       "                sublinear_tf=True)"
      ]
     },
     "execution_count": 70,
     "metadata": {},
     "output_type": "execute_result"
    }
   ],
   "source": [
    "tfidf = TfidfVectorizer(binary=True, max_features=550, smooth_idf=False, sublinear_tf=True)\n",
    "tfidf.fit(feedback_lem)"
   ]
  },
  {
   "cell_type": "code",
   "execution_count": 71,
   "metadata": {},
   "outputs": [
    {
     "data": {
      "text/plain": [
       "['vectorizer_tfidf.joblib']"
      ]
     },
     "execution_count": 71,
     "metadata": {},
     "output_type": "execute_result"
    }
   ],
   "source": [
    "dump(tfidf, 'vectorizer_tfidf.joblib')"
   ]
  },
  {
   "cell_type": "code",
   "execution_count": 72,
   "metadata": {},
   "outputs": [
    {
     "data": {
      "text/plain": [
       "SVC(probability=True, random_state=42)"
      ]
     },
     "execution_count": 72,
     "metadata": {},
     "output_type": "execute_result"
    }
   ],
   "source": [
    "svc.fit(dados_tfidf, target_encoded)"
   ]
  },
  {
   "cell_type": "code",
   "execution_count": 73,
   "metadata": {},
   "outputs": [
    {
     "data": {
      "text/plain": [
       "['model_svc.joblib']"
      ]
     },
     "execution_count": 73,
     "metadata": {},
     "output_type": "execute_result"
    }
   ],
   "source": [
    "dump(svc, 'model_svc.joblib')"
   ]
  },
  {
   "cell_type": "code",
   "execution_count": null,
   "metadata": {},
   "outputs": [],
   "source": []
  }
 ],
 "metadata": {
  "kernelspec": {
   "display_name": "Python 3",
   "language": "python",
   "name": "python3"
  },
  "language_info": {
   "codemirror_mode": {
    "name": "ipython",
    "version": 3
   },
   "file_extension": ".py",
   "mimetype": "text/x-python",
   "name": "python",
   "nbconvert_exporter": "python",
   "pygments_lexer": "ipython3",
   "version": "3.8.5"
  }
 },
 "nbformat": 4,
 "nbformat_minor": 4
}
