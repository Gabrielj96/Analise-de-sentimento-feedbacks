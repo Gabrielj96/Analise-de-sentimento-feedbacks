{
 "cells": [
  {
   "cell_type": "markdown",
   "metadata": {},
   "source": [
    "### Importante bibliotecas e base de dados"
   ]
  },
  {
   "cell_type": "code",
   "execution_count": 2,
   "metadata": {},
   "outputs": [],
   "source": [
    "# bibliotecas padrões\n",
    "import pandas as pd\n",
    "import numpy as np\n",
    "import matplotlib.pyplot as plt\n",
    "import seaborn as sns\n",
    "%matplotlib inline\n",
    "\n",
    "# bibliotecas para NLP\n",
    "import nltk\n",
    "from nltk import FreqDist\n",
    "from nltk.tokenize import word_tokenize\n",
    "from nltk.stem import WordNetLemmatizer\n",
    "import re\n",
    "from unidecode import unidecode\n",
    "from nltk.corpus import stopwords\n",
    "from spacy.lang.pt.stop_words import STOP_WORDS\n",
    "from sklearn.feature_extraction.text import CountVectorizer, TfidfVectorizer\n",
    "\n",
    "# bibliotecas para modelagem\n",
    "from sklearn.naive_bayes import GaussianNB\n",
    "from sklearn.svm import SVC\n",
    "from sklearn.ensemble import RandomForestClassifier\n",
    "from sklearn.linear_model import SGDClassifier\n",
    "from sklearn.linear_model import LogisticRegression\n",
    "from sklearn.model_selection import train_test_split, cross_val_predict\n",
    "from sklearn.metrics import precision_recall_fscore_support, classification_report\n",
    "from sklearn.preprocessing import LabelEncoder\n",
    "from sklearn.model_selection import KFold, cross_validate\n",
    "\n",
    "dados = pd.read_csv('final_dados_feedbacks.csv')"
   ]
  },
  {
   "cell_type": "code",
   "execution_count": 3,
   "metadata": {},
   "outputs": [
    {
     "data": {
      "text/html": [
       "<div>\n",
       "<style scoped>\n",
       "    .dataframe tbody tr th:only-of-type {\n",
       "        vertical-align: middle;\n",
       "    }\n",
       "\n",
       "    .dataframe tbody tr th {\n",
       "        vertical-align: top;\n",
       "    }\n",
       "\n",
       "    .dataframe thead th {\n",
       "        text-align: right;\n",
       "    }\n",
       "</style>\n",
       "<table border=\"1\" class=\"dataframe\">\n",
       "  <thead>\n",
       "    <tr style=\"text-align: right;\">\n",
       "      <th></th>\n",
       "      <th>Data</th>\n",
       "      <th>Feedback</th>\n",
       "      <th>Sentimento</th>\n",
       "    </tr>\n",
       "  </thead>\n",
       "  <tbody>\n",
       "    <tr>\n",
       "      <th>0</th>\n",
       "      <td>28/03/2020</td>\n",
       "      <td>Não</td>\n",
       "      <td>positivo</td>\n",
       "    </tr>\n",
       "    <tr>\n",
       "      <th>1</th>\n",
       "      <td>29/03/2020</td>\n",
       "      <td>Eu indicaria ele abordar um tema novo, não só ...</td>\n",
       "      <td>negativo</td>\n",
       "    </tr>\n",
       "    <tr>\n",
       "      <th>2</th>\n",
       "      <td>04/04/2020</td>\n",
       "      <td>As histórias que ele conta e a maneira como ab...</td>\n",
       "      <td>positivo</td>\n",
       "    </tr>\n",
       "    <tr>\n",
       "      <th>3</th>\n",
       "      <td>04/04/2020</td>\n",
       "      <td>Adorei as coisas que ele falou, foi muuuito le...</td>\n",
       "      <td>positivo</td>\n",
       "    </tr>\n",
       "  </tbody>\n",
       "</table>\n",
       "</div>"
      ],
      "text/plain": [
       "         Data                                           Feedback Sentimento\n",
       "0  28/03/2020                                                Não   positivo\n",
       "1  29/03/2020  Eu indicaria ele abordar um tema novo, não só ...   negativo\n",
       "2  04/04/2020  As histórias que ele conta e a maneira como ab...   positivo\n",
       "3  04/04/2020  Adorei as coisas que ele falou, foi muuuito le...   positivo"
      ]
     },
     "execution_count": 3,
     "metadata": {},
     "output_type": "execute_result"
    }
   ],
   "source": [
    "dados[['Data', 'Feedback', 'Sentimento']].head(4)"
   ]
  },
  {
   "cell_type": "code",
   "execution_count": 4,
   "metadata": {},
   "outputs": [
    {
     "data": {
      "text/plain": [
       "(1180, 4)"
      ]
     },
     "execution_count": 4,
     "metadata": {},
     "output_type": "execute_result"
    }
   ],
   "source": [
    "dados.shape"
   ]
  },
  {
   "cell_type": "markdown",
   "metadata": {},
   "source": [
    "## Limpeza do Texto"
   ]
  },
  {
   "cell_type": "markdown",
   "metadata": {},
   "source": [
    "#### Retirando perguntas do Dataframe\n",
    "\n",
    "Existem algumas perguntas no Dataframe que é sobre Autoavaliação, como queremos um modelo que classifica apenas os feedbacks para os palestrantes e para o CEO vamos retirar os comentários de Autoavaliação."
   ]
  },
  {
   "cell_type": "code",
   "execution_count": 5,
   "metadata": {},
   "outputs": [],
   "source": [
    "# Perguntas do dataframe\n",
    "#dados.Perguntas.value_counts()"
   ]
  },
  {
   "cell_type": "code",
   "execution_count": 6,
   "metadata": {},
   "outputs": [
    {
     "data": {
      "text/html": [
       "<div>\n",
       "<style scoped>\n",
       "    .dataframe tbody tr th:only-of-type {\n",
       "        vertical-align: middle;\n",
       "    }\n",
       "\n",
       "    .dataframe tbody tr th {\n",
       "        vertical-align: top;\n",
       "    }\n",
       "\n",
       "    .dataframe thead th {\n",
       "        text-align: right;\n",
       "    }\n",
       "</style>\n",
       "<table border=\"1\" class=\"dataframe\">\n",
       "  <thead>\n",
       "    <tr style=\"text-align: right;\">\n",
       "      <th></th>\n",
       "      <th>Data</th>\n",
       "      <th>Feedback</th>\n",
       "      <th>Perguntas</th>\n",
       "      <th>Sentimento</th>\n",
       "    </tr>\n",
       "  </thead>\n",
       "  <tbody>\n",
       "    <tr>\n",
       "      <th>32</th>\n",
       "      <td>18/04/2020</td>\n",
       "      <td>Foi muito boa! Adorei e me deu várias ideias.</td>\n",
       "      <td>Sobre as atividades do VimVer. O quanto você r...</td>\n",
       "      <td>positivo</td>\n",
       "    </tr>\n",
       "    <tr>\n",
       "      <th>291</th>\n",
       "      <td>04/04/2020</td>\n",
       "      <td>Sem comentários</td>\n",
       "      <td>Sobre as atividades do VimVer. O quanto você r...</td>\n",
       "      <td>positivo</td>\n",
       "    </tr>\n",
       "    <tr>\n",
       "      <th>292</th>\n",
       "      <td>04/04/2020</td>\n",
       "      <td>Foi muito boa! Ele tinha mt dominio do assunto...</td>\n",
       "      <td>Sobre as atividades do VimVer. O quanto você r...</td>\n",
       "      <td>positivo</td>\n",
       "    </tr>\n",
       "  </tbody>\n",
       "</table>\n",
       "</div>"
      ],
      "text/plain": [
       "           Data                                           Feedback  \\\n",
       "32   18/04/2020      Foi muito boa! Adorei e me deu várias ideias.   \n",
       "291  04/04/2020                                    Sem comentários   \n",
       "292  04/04/2020  Foi muito boa! Ele tinha mt dominio do assunto...   \n",
       "\n",
       "                                             Perguntas Sentimento  \n",
       "32   Sobre as atividades do VimVer. O quanto você r...   positivo  \n",
       "291  Sobre as atividades do VimVer. O quanto você r...   positivo  \n",
       "292  Sobre as atividades do VimVer. O quanto você r...   positivo  "
      ]
     },
     "execution_count": 6,
     "metadata": {},
     "output_type": "execute_result"
    }
   ],
   "source": [
    "# Pergunta errada, verificando se vale a pena deixar no dataframe\n",
    "dados[dados['Perguntas'] == 'Sobre as atividades do VimVer. O quanto você recomendaria para outro aluno? (Só coloque ZERO se você não participou)'].head(3)"
   ]
  },
  {
   "cell_type": "code",
   "execution_count": 7,
   "metadata": {},
   "outputs": [
    {
     "data": {
      "text/html": [
       "<div>\n",
       "<style scoped>\n",
       "    .dataframe tbody tr th:only-of-type {\n",
       "        vertical-align: middle;\n",
       "    }\n",
       "\n",
       "    .dataframe tbody tr th {\n",
       "        vertical-align: top;\n",
       "    }\n",
       "\n",
       "    .dataframe thead th {\n",
       "        text-align: right;\n",
       "    }\n",
       "</style>\n",
       "<table border=\"1\" class=\"dataframe\">\n",
       "  <thead>\n",
       "    <tr style=\"text-align: right;\">\n",
       "      <th></th>\n",
       "      <th>Data</th>\n",
       "      <th>Feedback</th>\n",
       "      <th>Perguntas</th>\n",
       "      <th>Sentimento</th>\n",
       "    </tr>\n",
       "  </thead>\n",
       "  <tbody>\n",
       "    <tr>\n",
       "      <th>439</th>\n",
       "      <td>30/05/2020</td>\n",
       "      <td>Simplismente demaisss</td>\n",
       "      <td>Simplismente demaisss</td>\n",
       "      <td>positivo</td>\n",
       "    </tr>\n",
       "  </tbody>\n",
       "</table>\n",
       "</div>"
      ],
      "text/plain": [
       "           Data               Feedback              Perguntas Sentimento\n",
       "439  30/05/2020  Simplismente demaisss  Simplismente demaisss   positivo"
      ]
     },
     "execution_count": 7,
     "metadata": {},
     "output_type": "execute_result"
    }
   ],
   "source": [
    "# Pergunta errada, verificando se vale a pena deixar no dataframe\n",
    "dados[dados['Perguntas'] == 'Simplismente demaisss']"
   ]
  },
  {
   "cell_type": "markdown",
   "metadata": {},
   "source": [
    "#### Quais Perguntas retirar do Dataframe?\n",
    "\n",
    "1. Escreva uma autoavaliação da sua EXECUÇÃO na etapa de PROTOTIPAGEM (VimVer)\n",
    "2. Escreva uma autoavaliação da sua execução na etapa de MAPEAMENTO (VimVer). OBS: Etapa iniciada no penúltimo encontro.\n",
    "3. Escreva uma autoavaliação da sua EXECUÇÃO na etapa de IDEAÇÃO (VimVer). OBS: Etapa iniciada no penúltimo encontro.\n",
    "4. Escreva uma autoavaliação da sua EXECUÇÃO na etapa de EXPERIMENTAÇÃO (VimVer)"
   ]
  },
  {
   "cell_type": "code",
   "execution_count": 8,
   "metadata": {},
   "outputs": [],
   "source": [
    "# Eliminando perguntas que não fazem sentido do dataframe\n",
    "dados = dados.loc[(dados['Perguntas'] != 'Escreva uma autoavaliação da sua EXECUÇÃO na etapa de PROTOTIPAGEM (VimVer)') &\n",
    "         (dados['Perguntas'] != 'Escreva uma autoavaliação da sua execução na etapa de MAPEAMENTO (VimVer). OBS: Etapa iniciada no penúltimo encontro.') &\n",
    "         (dados['Perguntas'] != 'Escreva uma autoavaliação da sua EXECUÇÃO na etapa de IDEAÇÃO (VimVer). OBS: Etapa iniciada no penúltimo encontro.') &\n",
    "         (dados['Perguntas'] != 'Escreva uma autoavaliação da sua EXECUÇÃO na etapa de EXPERIMENTAÇÃO (VimVer)')]"
   ]
  },
  {
   "cell_type": "code",
   "execution_count": 9,
   "metadata": {},
   "outputs": [
    {
     "data": {
      "text/plain": [
       "(1007, 4)"
      ]
     },
     "execution_count": 9,
     "metadata": {},
     "output_type": "execute_result"
    }
   ],
   "source": [
    "dados.shape"
   ]
  },
  {
   "cell_type": "markdown",
   "metadata": {},
   "source": [
    "#### Spell Checker"
   ]
  },
  {
   "cell_type": "code",
   "execution_count": 10,
   "metadata": {},
   "outputs": [],
   "source": [
    "#from spellchecker import SpellChecker\n",
    "#def Corretor(feedback):\n",
    "#    spell = SpellChecker(language='pt')\n",
    "#    palavras = []\n",
    "#    for w in feedback.split():\n",
    "#        palavras.append(spell.correction(w))\n",
    "#    return (\" \".join(palavras))\n",
    "\n",
    "#dados['Feedback'] = dados['Feedback'].apply(lambda x: Corretor(x))"
   ]
  },
  {
   "cell_type": "markdown",
   "metadata": {},
   "source": [
    "#### Transformando tudo em minúsculo e retirando acentos\n",
    "\n",
    "Acentos e letras em maiúsculo podem atrapalhar o modelo a identificar padrão, já que \"Não\", \"Nao\", \"não\" e \"nao\" tem o mesmo significado, mas acabam sendo tratados como palavras diferentes pelo modelo."
   ]
  },
  {
   "cell_type": "code",
   "execution_count": 11,
   "metadata": {},
   "outputs": [],
   "source": [
    "dados.Feedback = dados.Feedback.str.lower()"
   ]
  },
  {
   "cell_type": "code",
   "execution_count": 12,
   "metadata": {},
   "outputs": [],
   "source": [
    "dados['Feedback'] = dados['Feedback'].apply(lambda x: unidecode(x))"
   ]
  },
  {
   "cell_type": "code",
   "execution_count": 13,
   "metadata": {},
   "outputs": [
    {
     "data": {
      "text/html": [
       "<div>\n",
       "<style scoped>\n",
       "    .dataframe tbody tr th:only-of-type {\n",
       "        vertical-align: middle;\n",
       "    }\n",
       "\n",
       "    .dataframe tbody tr th {\n",
       "        vertical-align: top;\n",
       "    }\n",
       "\n",
       "    .dataframe thead th {\n",
       "        text-align: right;\n",
       "    }\n",
       "</style>\n",
       "<table border=\"1\" class=\"dataframe\">\n",
       "  <thead>\n",
       "    <tr style=\"text-align: right;\">\n",
       "      <th></th>\n",
       "      <th>Data</th>\n",
       "      <th>Feedback</th>\n",
       "      <th>Sentimento</th>\n",
       "    </tr>\n",
       "  </thead>\n",
       "  <tbody>\n",
       "    <tr>\n",
       "      <th>0</th>\n",
       "      <td>28/03/2020</td>\n",
       "      <td>nao</td>\n",
       "      <td>positivo</td>\n",
       "    </tr>\n",
       "    <tr>\n",
       "      <th>1</th>\n",
       "      <td>29/03/2020</td>\n",
       "      <td>eu indicaria ele abordar um tema novo, nao so ...</td>\n",
       "      <td>negativo</td>\n",
       "    </tr>\n",
       "    <tr>\n",
       "      <th>2</th>\n",
       "      <td>04/04/2020</td>\n",
       "      <td>as historias que ele conta e a maneira como ab...</td>\n",
       "      <td>positivo</td>\n",
       "    </tr>\n",
       "    <tr>\n",
       "      <th>3</th>\n",
       "      <td>04/04/2020</td>\n",
       "      <td>adorei as coisas que ele falou, foi muuuito le...</td>\n",
       "      <td>positivo</td>\n",
       "    </tr>\n",
       "  </tbody>\n",
       "</table>\n",
       "</div>"
      ],
      "text/plain": [
       "         Data                                           Feedback Sentimento\n",
       "0  28/03/2020                                                nao   positivo\n",
       "1  29/03/2020  eu indicaria ele abordar um tema novo, nao so ...   negativo\n",
       "2  04/04/2020  as historias que ele conta e a maneira como ab...   positivo\n",
       "3  04/04/2020  adorei as coisas que ele falou, foi muuuito le...   positivo"
      ]
     },
     "execution_count": 13,
     "metadata": {},
     "output_type": "execute_result"
    }
   ],
   "source": [
    "dados[['Data', 'Feedback', 'Sentimento']].head(4)"
   ]
  },
  {
   "cell_type": "markdown",
   "metadata": {},
   "source": [
    "#### Removendo pontuações\n",
    "\n",
    "Pontuações também não agregam muito valor para o modelo pois um \".\" ou \",\" não tem muito significado para identificar um sentimento."
   ]
  },
  {
   "cell_type": "code",
   "execution_count": 14,
   "metadata": {},
   "outputs": [],
   "source": [
    "def RemovePunctuation(feedback):\n",
    "    feedback = re.sub(r\"[-|0-9]\", \"\", feedback).lower()\n",
    "    feedback = re.sub(r'[-./?!,\":;()\\']', ' ', feedback).lower()\n",
    "    return (feedback)"
   ]
  },
  {
   "cell_type": "code",
   "execution_count": 15,
   "metadata": {},
   "outputs": [],
   "source": [
    "lista_feedback = []\n",
    "lista_feedback = [RemovePunctuation(feedback) for feedback in dados.Feedback]"
   ]
  },
  {
   "cell_type": "code",
   "execution_count": 16,
   "metadata": {},
   "outputs": [],
   "source": [
    "dados.Feedback = lista_feedback"
   ]
  },
  {
   "cell_type": "markdown",
   "metadata": {},
   "source": [
    "#### Removendo Espaçamentos duplos"
   ]
  },
  {
   "cell_type": "code",
   "execution_count": 17,
   "metadata": {},
   "outputs": [],
   "source": [
    "dados['Feedback'] = dados['Feedback'].apply(lambda x: x.strip())"
   ]
  },
  {
   "cell_type": "code",
   "execution_count": 18,
   "metadata": {},
   "outputs": [],
   "source": [
    "dados['Feedback'] = dados['Feedback'].apply(lambda x: x.replace(\"  \", \" \"))"
   ]
  },
  {
   "cell_type": "code",
   "execution_count": 19,
   "metadata": {},
   "outputs": [
    {
     "data": {
      "text/html": [
       "<div>\n",
       "<style scoped>\n",
       "    .dataframe tbody tr th:only-of-type {\n",
       "        vertical-align: middle;\n",
       "    }\n",
       "\n",
       "    .dataframe tbody tr th {\n",
       "        vertical-align: top;\n",
       "    }\n",
       "\n",
       "    .dataframe thead th {\n",
       "        text-align: right;\n",
       "    }\n",
       "</style>\n",
       "<table border=\"1\" class=\"dataframe\">\n",
       "  <thead>\n",
       "    <tr style=\"text-align: right;\">\n",
       "      <th></th>\n",
       "      <th>Data</th>\n",
       "      <th>Feedback</th>\n",
       "      <th>Sentimento</th>\n",
       "    </tr>\n",
       "  </thead>\n",
       "  <tbody>\n",
       "    <tr>\n",
       "      <th>0</th>\n",
       "      <td>28/03/2020</td>\n",
       "      <td>nao</td>\n",
       "      <td>positivo</td>\n",
       "    </tr>\n",
       "    <tr>\n",
       "      <th>1</th>\n",
       "      <td>29/03/2020</td>\n",
       "      <td>eu indicaria ele abordar um tema novo nao so o...</td>\n",
       "      <td>negativo</td>\n",
       "    </tr>\n",
       "    <tr>\n",
       "      <th>2</th>\n",
       "      <td>04/04/2020</td>\n",
       "      <td>as historias que ele conta e a maneira como ab...</td>\n",
       "      <td>positivo</td>\n",
       "    </tr>\n",
       "    <tr>\n",
       "      <th>3</th>\n",
       "      <td>04/04/2020</td>\n",
       "      <td>adorei as coisas que ele falou foi muuuito leg...</td>\n",
       "      <td>positivo</td>\n",
       "    </tr>\n",
       "  </tbody>\n",
       "</table>\n",
       "</div>"
      ],
      "text/plain": [
       "         Data                                           Feedback Sentimento\n",
       "0  28/03/2020                                                nao   positivo\n",
       "1  29/03/2020  eu indicaria ele abordar um tema novo nao so o...   negativo\n",
       "2  04/04/2020  as historias que ele conta e a maneira como ab...   positivo\n",
       "3  04/04/2020  adorei as coisas que ele falou foi muuuito leg...   positivo"
      ]
     },
     "execution_count": 19,
     "metadata": {},
     "output_type": "execute_result"
    }
   ],
   "source": [
    "dados[['Data', 'Feedback', 'Sentimento']].head(4)"
   ]
  },
  {
   "cell_type": "code",
   "execution_count": 20,
   "metadata": {},
   "outputs": [
    {
     "data": {
      "text/plain": [
       "(784, 4)"
      ]
     },
     "execution_count": 20,
     "metadata": {},
     "output_type": "execute_result"
    }
   ],
   "source": [
    "dados.drop_duplicates(subset=['Feedback'], inplace=True)\n",
    "dados.shape"
   ]
  },
  {
   "cell_type": "markdown",
   "metadata": {},
   "source": [
    "## EDA"
   ]
  },
  {
   "cell_type": "markdown",
   "metadata": {},
   "source": [
    "#### Criando coluna de contagem de palavras"
   ]
  },
  {
   "cell_type": "code",
   "execution_count": 21,
   "metadata": {},
   "outputs": [
    {
     "data": {
      "text/html": [
       "<div>\n",
       "<style scoped>\n",
       "    .dataframe tbody tr th:only-of-type {\n",
       "        vertical-align: middle;\n",
       "    }\n",
       "\n",
       "    .dataframe tbody tr th {\n",
       "        vertical-align: top;\n",
       "    }\n",
       "\n",
       "    .dataframe thead th {\n",
       "        text-align: right;\n",
       "    }\n",
       "</style>\n",
       "<table border=\"1\" class=\"dataframe\">\n",
       "  <thead>\n",
       "    <tr style=\"text-align: right;\">\n",
       "      <th></th>\n",
       "      <th>Data</th>\n",
       "      <th>Feedback</th>\n",
       "      <th>Sentimento</th>\n",
       "      <th>Contagem_palavras</th>\n",
       "    </tr>\n",
       "  </thead>\n",
       "  <tbody>\n",
       "    <tr>\n",
       "      <th>0</th>\n",
       "      <td>28/03/2020</td>\n",
       "      <td>nao</td>\n",
       "      <td>positivo</td>\n",
       "      <td>1</td>\n",
       "    </tr>\n",
       "    <tr>\n",
       "      <th>1</th>\n",
       "      <td>29/03/2020</td>\n",
       "      <td>eu indicaria ele abordar um tema novo nao so o...</td>\n",
       "      <td>negativo</td>\n",
       "      <td>24</td>\n",
       "    </tr>\n",
       "    <tr>\n",
       "      <th>2</th>\n",
       "      <td>04/04/2020</td>\n",
       "      <td>as historias que ele conta e a maneira como ab...</td>\n",
       "      <td>positivo</td>\n",
       "      <td>12</td>\n",
       "    </tr>\n",
       "    <tr>\n",
       "      <th>3</th>\n",
       "      <td>04/04/2020</td>\n",
       "      <td>adorei as coisas que ele falou foi muuuito leg...</td>\n",
       "      <td>positivo</td>\n",
       "      <td>12</td>\n",
       "    </tr>\n",
       "  </tbody>\n",
       "</table>\n",
       "</div>"
      ],
      "text/plain": [
       "         Data                                           Feedback Sentimento  \\\n",
       "0  28/03/2020                                                nao   positivo   \n",
       "1  29/03/2020  eu indicaria ele abordar um tema novo nao so o...   negativo   \n",
       "2  04/04/2020  as historias que ele conta e a maneira como ab...   positivo   \n",
       "3  04/04/2020  adorei as coisas que ele falou foi muuuito leg...   positivo   \n",
       "\n",
       "   Contagem_palavras  \n",
       "0                  1  \n",
       "1                 24  \n",
       "2                 12  \n",
       "3                 12  "
      ]
     },
     "execution_count": 21,
     "metadata": {},
     "output_type": "execute_result"
    }
   ],
   "source": [
    "dados['Contagem_palavras'] = dados['Feedback'].apply(lambda x: len(str(x).split(\" \")))\n",
    "dados[['Data', 'Feedback', 'Sentimento', 'Contagem_palavras']].head(4)"
   ]
  },
  {
   "cell_type": "code",
   "execution_count": 22,
   "metadata": {},
   "outputs": [],
   "source": [
    "graph = dados[['Sentimento', 'Contagem_palavras']].groupby('Sentimento').mean().reset_index()"
   ]
  },
  {
   "cell_type": "code",
   "execution_count": 23,
   "metadata": {},
   "outputs": [
    {
     "data": {
      "text/plain": [
       "0    negativo\n",
       "1    positivo\n",
       "Name: Sentimento, dtype: object"
      ]
     },
     "execution_count": 23,
     "metadata": {},
     "output_type": "execute_result"
    }
   ],
   "source": [
    "graph.Sentimento"
   ]
  },
  {
   "cell_type": "code",
   "execution_count": 24,
   "metadata": {},
   "outputs": [
    {
     "data": {
      "image/png": "[encoded data removed]",
      "text/plain": [
       "<Figure size 432x288 with 1 Axes>"
      ]
     },
     "metadata": {
      "needs_background": "light"
     },
     "output_type": "display_data"
    }
   ],
   "source": [
    "plt.bar(graph.Sentimento, graph.Contagem_palavras, width=0.4, color='blue')\n",
    "plt.title('Média de palavras por sentimento')\n",
    "plt.show()"
   ]
  },
  {
   "cell_type": "markdown",
   "metadata": {},
   "source": [
    "Na média os comentários negativos tem mais palavras, seguido por positivos e depois neutros."
   ]
  },
  {
   "cell_type": "code",
   "execution_count": 25,
   "metadata": {},
   "outputs": [
    {
     "data": {
      "image/png": "[encoded data removed]",
      "text/plain": [
       "<Figure size 1080x360 with 2 Axes>"
      ]
     },
     "metadata": {
      "needs_background": "light"
     },
     "output_type": "display_data"
    }
   ],
   "source": [
    "f, (ax1, ax2) = plt.subplots(1, 2, figsize = (15, 5))\n",
    "\n",
    "ax1.hist(dados[dados['Sentimento'] == 'negativo']['Contagem_palavras'], 20)\n",
    "ax1.set_title('Histograma Negativo')\n",
    "\n",
    "ax2.hist(dados[dados['Sentimento'] == 'positivo']['Contagem_palavras'], 20)\n",
    "ax2.set_title('Histograma Positivo')\n",
    "\n",
    "plt.show()"
   ]
  },
  {
   "cell_type": "markdown",
   "metadata": {},
   "source": [
    "#### Criando coluna de contagem de stopwords"
   ]
  },
  {
   "cell_type": "code",
   "execution_count": 26,
   "metadata": {},
   "outputs": [],
   "source": [
    "# importando stopwords das libs spacy e nltk\n",
    "stopwords = stopwords.words('portuguese')\n",
    "stopwords_spacy = STOP_WORDS"
   ]
  },
  {
   "cell_type": "code",
   "execution_count": 27,
   "metadata": {},
   "outputs": [],
   "source": [
    "# criando apenas uma lista de stopwords\n",
    "for word in stopwords_spacy:\n",
    "    if not word in stopwords:\n",
    "        stopwords.append(word)\n",
    "        \n",
    "stopwords.append('nao')\n",
    "stopwords = set(stopwords)"
   ]
  },
  {
   "cell_type": "code",
   "execution_count": 28,
   "metadata": {},
   "outputs": [
    {
     "data": {
      "text/html": [
       "<div>\n",
       "<style scoped>\n",
       "    .dataframe tbody tr th:only-of-type {\n",
       "        vertical-align: middle;\n",
       "    }\n",
       "\n",
       "    .dataframe tbody tr th {\n",
       "        vertical-align: top;\n",
       "    }\n",
       "\n",
       "    .dataframe thead th {\n",
       "        text-align: right;\n",
       "    }\n",
       "</style>\n",
       "<table border=\"1\" class=\"dataframe\">\n",
       "  <thead>\n",
       "    <tr style=\"text-align: right;\">\n",
       "      <th></th>\n",
       "      <th>Data</th>\n",
       "      <th>Feedback</th>\n",
       "      <th>Sentimento</th>\n",
       "      <th>Contagem_palavras</th>\n",
       "      <th>Contagem_stopwords</th>\n",
       "    </tr>\n",
       "  </thead>\n",
       "  <tbody>\n",
       "    <tr>\n",
       "      <th>0</th>\n",
       "      <td>28/03/2020</td>\n",
       "      <td>nao</td>\n",
       "      <td>positivo</td>\n",
       "      <td>1</td>\n",
       "      <td>1</td>\n",
       "    </tr>\n",
       "    <tr>\n",
       "      <th>1</th>\n",
       "      <td>29/03/2020</td>\n",
       "      <td>eu indicaria ele abordar um tema novo nao so o...</td>\n",
       "      <td>negativo</td>\n",
       "      <td>24</td>\n",
       "      <td>14</td>\n",
       "    </tr>\n",
       "    <tr>\n",
       "      <th>2</th>\n",
       "      <td>04/04/2020</td>\n",
       "      <td>as historias que ele conta e a maneira como ab...</td>\n",
       "      <td>positivo</td>\n",
       "      <td>12</td>\n",
       "      <td>6</td>\n",
       "    </tr>\n",
       "    <tr>\n",
       "      <th>3</th>\n",
       "      <td>04/04/2020</td>\n",
       "      <td>adorei as coisas que ele falou foi muuuito leg...</td>\n",
       "      <td>positivo</td>\n",
       "      <td>12</td>\n",
       "      <td>5</td>\n",
       "    </tr>\n",
       "  </tbody>\n",
       "</table>\n",
       "</div>"
      ],
      "text/plain": [
       "         Data                                           Feedback Sentimento  \\\n",
       "0  28/03/2020                                                nao   positivo   \n",
       "1  29/03/2020  eu indicaria ele abordar um tema novo nao so o...   negativo   \n",
       "2  04/04/2020  as historias que ele conta e a maneira como ab...   positivo   \n",
       "3  04/04/2020  adorei as coisas que ele falou foi muuuito leg...   positivo   \n",
       "\n",
       "   Contagem_palavras  Contagem_stopwords  \n",
       "0                  1                   1  \n",
       "1                 24                  14  \n",
       "2                 12                   6  \n",
       "3                 12                   5  "
      ]
     },
     "execution_count": 28,
     "metadata": {},
     "output_type": "execute_result"
    }
   ],
   "source": [
    "dados['Contagem_stopwords'] = dados['Feedback'].apply(lambda x: len([x for x in x.split() if x in stopwords]))\n",
    "dados[['Data', 'Feedback', 'Sentimento', 'Contagem_palavras', 'Contagem_stopwords']].head(4)"
   ]
  },
  {
   "cell_type": "code",
   "execution_count": 234,
   "metadata": {},
   "outputs": [],
   "source": [
    "graph = dados[['Sentimento', 'Contagem_stopwords']].groupby('Sentimento').mean().reset_index()"
   ]
  },
  {
   "cell_type": "code",
   "execution_count": 235,
   "metadata": {},
   "outputs": [
    {
     "data": {
      "image/png": "[encoded data removed]",
      "text/plain": [
       "<Figure size 432x288 with 1 Axes>"
      ]
     },
     "metadata": {
      "needs_background": "light"
     },
     "output_type": "display_data"
    }
   ],
   "source": [
    "plt.bar(graph.Sentimento, graph.Contagem_stopwords, width=0.4, color='blue')\n",
    "plt.title('Média de stopwords por sentimento')\n",
    "plt.show()"
   ]
  },
  {
   "cell_type": "markdown",
   "metadata": {},
   "source": [
    "Na média os comentários negativos tem mais stopwords, seguido por positivos e depois neutros."
   ]
  },
  {
   "cell_type": "code",
   "execution_count": 236,
   "metadata": {},
   "outputs": [
    {
     "data": {
      "image/png": "[encoded data removed]",
      "text/plain": [
       "<Figure size 1080x360 with 2 Axes>"
      ]
     },
     "metadata": {
      "needs_background": "light"
     },
     "output_type": "display_data"
    }
   ],
   "source": [
    "f, (ax1, ax2) = plt.subplots(1, 2, figsize=(15,5))\n",
    "\n",
    "ax1.hist(dados[dados['Sentimento'] == 'negativo']['Contagem_stopwords'], 20)\n",
    "ax1.set_title('Histograma Negativo')\n",
    "\n",
    "ax2.hist(dados[dados['Sentimento'] == 'positivo']['Contagem_stopwords'], 20)\n",
    "ax2.set_title('Histograma Positivo')\n",
    "\n",
    "plt.show()"
   ]
  },
  {
   "cell_type": "markdown",
   "metadata": {},
   "source": [
    "#### Calculando frequência de palavras"
   ]
  },
  {
   "cell_type": "code",
   "execution_count": 237,
   "metadata": {},
   "outputs": [],
   "source": [
    "nlp = word_tokenize"
   ]
  },
  {
   "cell_type": "code",
   "execution_count": 238,
   "metadata": {},
   "outputs": [],
   "source": [
    "# separando textos positivos, negativos e neutros\n",
    "texto_positivo = str()\n",
    "for feedback in dados[dados['Sentimento'] == 'positivo']['Feedback']:\n",
    "    texto_positivo += feedback\n",
    "    \n",
    "texto_neutro = str()\n",
    "for feedback in dados[dados['Sentimento'] == 'neutro']['Feedback']:\n",
    "    texto_neutro += feedback\n",
    "    \n",
    "texto_negativo = str()\n",
    "for feedback in dados[dados['Sentimento'] == 'negativo']['Feedback']:\n",
    "    texto_negativo += feedback   "
   ]
  },
  {
   "cell_type": "code",
   "execution_count": 239,
   "metadata": {
    "scrolled": true
   },
   "outputs": [],
   "source": [
    "# transformando palavras e um dataframe com as colunas termo e frequência\n",
    "dados_positivo = pd.DataFrame.from_dict(FreqDist(nlp(texto_positivo)), orient='index')\n",
    "dados_positivo.columns = ['Frequencia']\n",
    "dados_positivo.index.name = 'Termo'\n",
    "dados_positivo = dados_positivo.sort_values('Frequencia', ascending=False).reset_index()\n",
    "\n",
    "dados_negativo = pd.DataFrame.from_dict(FreqDist(nlp(texto_negativo)), orient='index')\n",
    "dados_negativo.columns = ['Frequencia']\n",
    "dados_negativo.index.name = 'Termo'\n",
    "dados_negativo = dados_negativo.sort_values('Frequencia', ascending=False).reset_index()"
   ]
  },
  {
   "cell_type": "markdown",
   "metadata": {},
   "source": [
    "##### Palavras mais comuns"
   ]
  },
  {
   "cell_type": "code",
   "execution_count": 240,
   "metadata": {},
   "outputs": [
    {
     "data": {
      "image/png": "[encoded data removed]",
      "text/plain": [
       "<Figure size 1440x1080 with 2 Axes>"
      ]
     },
     "metadata": {
      "needs_background": "light"
     },
     "output_type": "display_data"
    }
   ],
   "source": [
    "fig, (ax1, ax2) = plt.subplots(2, 1, figsize=(20,15))\n",
    "\n",
    "ax1.bar(dados_negativo.head(20)['Termo'], dados_negativo.head(20)['Frequencia'], width=0.9, color='blue')\n",
    "ax1.set_title('Frequencia de palavras no texto negativo')\n",
    "ax2.bar(dados_positivo.head(20)['Termo'], dados_positivo.head(20)['Frequencia'], width=0.9, color='blue')\n",
    "ax2.set_title('Frequencia de palavras no texto positivo')\n",
    "\n",
    "plt.show()"
   ]
  },
  {
   "cell_type": "markdown",
   "metadata": {},
   "source": [
    "#### Palavras mais raras"
   ]
  },
  {
   "cell_type": "code",
   "execution_count": 241,
   "metadata": {},
   "outputs": [],
   "source": [
    "dados_positivo = dados_positivo.sort_values('Frequencia', ascending=True).reset_index()\n",
    "dados_negativo = dados_negativo.sort_values('Frequencia', ascending=True).reset_index()"
   ]
  },
  {
   "cell_type": "code",
   "execution_count": 242,
   "metadata": {
    "scrolled": false
   },
   "outputs": [
    {
     "data": {
      "image/png": "[encoded data removed]",
      "text/plain": [
       "<Figure size 1440x1080 with 2 Axes>"
      ]
     },
     "metadata": {
      "needs_background": "light"
     },
     "output_type": "display_data"
    }
   ],
   "source": [
    "fig, (ax1, ax2) = plt.subplots(2, 1, figsize=(20,15))\n",
    "\n",
    "ax1.bar(dados_negativo.head(20)['Termo'], dados_negativo.head(20)['Frequencia'], width=0.2, color='red')\n",
    "ax1.set_title('Frequencia de palavras no texto negativo')\n",
    "ax2.bar(dados_positivo.head(20)['Termo'], dados_positivo.head(20)['Frequencia'], width=0.2, color='red')\n",
    "ax2.set_title('Frequencia de palavras no texto positivo')\n",
    "\n",
    "plt.show()"
   ]
  },
  {
   "cell_type": "markdown",
   "metadata": {},
   "source": [
    "## Pré-processamento"
   ]
  },
  {
   "cell_type": "markdown",
   "metadata": {},
   "source": [
    "#### Removendo stopwords"
   ]
  },
  {
   "cell_type": "code",
   "execution_count": 243,
   "metadata": {},
   "outputs": [],
   "source": [
    "def RemoveStopWords(feedback):\n",
    "    palavras = [i for i in feedback.split() if not i in stopwords]\n",
    "    return (\" \".join(palavras))\n",
    "\n",
    "lista_feedback = []\n",
    "lista_feedback = [RemoveStopWords(feedback) for feedback in dados.Feedback]\n",
    "\n",
    "dados['Feedback_stop'] = lista_feedback"
   ]
  },
  {
   "cell_type": "markdown",
   "metadata": {},
   "source": [
    "#### Tag de Negação\n",
    "\n",
    "Acrescenta uma tag _NEG encontrada após um 'não'. Objetivo é dar mais peso para o modelo identificar uma inversão de sentimento da frase.\n",
    "Exemplos:\n",
    "- Eu gosto de cachorros, positivo.\n",
    "- Eu não gosto de cachorros, negativo."
   ]
  },
  {
   "cell_type": "code",
   "execution_count": 244,
   "metadata": {},
   "outputs": [],
   "source": [
    "def marque_negacao(feedback):\n",
    "    negacoes = ['nao','not']\n",
    "    negacao_detectada = False\n",
    "    resultado = []\n",
    "    palavras = feedback.split()\n",
    "    for p in palavras:\n",
    "        if negacao_detectada == True:\n",
    "            p = p + '_NEG'\n",
    "        if p in negacoes:\n",
    "            negacao_detectada = True\n",
    "        resultado.append(p)\n",
    "    return (\" \".join(resultado))"
   ]
  },
  {
   "cell_type": "markdown",
   "metadata": {},
   "source": [
    "#### Stemming"
   ]
  },
  {
   "cell_type": "code",
   "execution_count": 245,
   "metadata": {},
   "outputs": [],
   "source": [
    "def Stemming(feedback):\n",
    "    stemmer = nltk.stem.RSLPStemmer()\n",
    "    palavras = []\n",
    "    for w in feedback.split():\n",
    "        palavras.append(stemmer.stem(w))\n",
    "    return (\" \".join(palavras))"
   ]
  },
  {
   "cell_type": "markdown",
   "metadata": {},
   "source": [
    "#### Lematization"
   ]
  },
  {
   "cell_type": "code",
   "execution_count": 246,
   "metadata": {},
   "outputs": [],
   "source": [
    "lemmatizer = WordNetLemmatizer()\n",
    "def Lemmatization(feedback):\n",
    "  palavras = []\n",
    "  for w in feedback.split():\n",
    "    palavras.append(lemmatizer.lemmatize(w))\n",
    "  return (\" \".join(palavras))"
   ]
  },
  {
   "cell_type": "markdown",
   "metadata": {},
   "source": [
    "#### Pos_tagging"
   ]
  },
  {
   "cell_type": "code",
   "execution_count": 247,
   "metadata": {},
   "outputs": [],
   "source": [
    "import spacy\n",
    "nlp = spacy.load('pt_core_news_sm')"
   ]
  },
  {
   "cell_type": "code",
   "execution_count": 248,
   "metadata": {},
   "outputs": [],
   "source": [
    "def get_postags(row):\n",
    "    \n",
    "    row = nlp(row)\n",
    "    new_row = []\n",
    "\n",
    "    for token in row:\n",
    "        palavra = token.text + \"_\" + token.pos_\n",
    "        new_row.append(palavra)\n",
    "    \n",
    "    return (\" \".join(new_row))"
   ]
  },
  {
   "cell_type": "markdown",
   "metadata": {},
   "source": [
    "## Blanceado Classes\n",
    "\n",
    "Como temos dados desbalanceados, com comentários positivos muitos maiores que negativos, precisamos balancear\n",
    "as classes para não enviesar o modelo."
   ]
  },
  {
   "cell_type": "code",
   "execution_count": 249,
   "metadata": {},
   "outputs": [
    {
     "data": {
      "text/plain": [
       "positivo    600\n",
       "negativo    184\n",
       "Name: Sentimento, dtype: int64"
      ]
     },
     "execution_count": 249,
     "metadata": {},
     "output_type": "execute_result"
    }
   ],
   "source": [
    "dados.Sentimento.value_counts()"
   ]
  },
  {
   "cell_type": "code",
   "execution_count": 250,
   "metadata": {},
   "outputs": [],
   "source": [
    "sentimento=['Negativo', 'Positivo']\n",
    "le = LabelEncoder()\n",
    "le.fit(dados['Sentimento'])\n",
    "target_encoded = le.transform(dados['Sentimento'])"
   ]
  },
  {
   "cell_type": "code",
   "execution_count": 251,
   "metadata": {},
   "outputs": [],
   "source": [
    "dados['target_encoded'] = target_encoded"
   ]
  },
  {
   "cell_type": "code",
   "execution_count": 252,
   "metadata": {},
   "outputs": [
    {
     "data": {
      "text/plain": [
       "1    600\n",
       "0    184\n",
       "Name: target_encoded, dtype: int64"
      ]
     },
     "execution_count": 252,
     "metadata": {},
     "output_type": "execute_result"
    }
   ],
   "source": [
    "dados.target_encoded.value_counts()"
   ]
  },
  {
   "cell_type": "code",
   "execution_count": 253,
   "metadata": {},
   "outputs": [],
   "source": [
    "count_class_1, count_class_0 = dados.target_encoded.value_counts()"
   ]
  },
  {
   "cell_type": "code",
   "execution_count": 254,
   "metadata": {},
   "outputs": [],
   "source": [
    "# Divide by class\n",
    "dados_class_0 = dados[dados['target_encoded'] == 0]\n",
    "dados_class_1 = dados[dados['target_encoded'] == 1]"
   ]
  },
  {
   "cell_type": "code",
   "execution_count": 255,
   "metadata": {},
   "outputs": [
    {
     "name": "stdout",
     "output_type": "stream",
     "text": [
      "Random under-sampling:\n",
      "1    184\n",
      "0    184\n",
      "Name: target_encoded, dtype: int64\n"
     ]
    },
    {
     "data": {
      "image/png": "[encoded data removed]",
      "text/plain": [
       "<Figure size 432x288 with 1 Axes>"
      ]
     },
     "metadata": {
      "needs_background": "light"
     },
     "output_type": "display_data"
    }
   ],
   "source": [
    "dados_class_0_under = dados_class_0.sample(count_class_0, random_state=42)\n",
    "dados_class_1_under = dados_class_1.sample(count_class_0, random_state=42)\n",
    "dados = pd.concat([dados_class_0_under, dados_class_1_under], axis=0)\n",
    "\n",
    "print('Random under-sampling:')\n",
    "print(dados.target_encoded.value_counts())\n",
    "\n",
    "dados.target_encoded.value_counts().plot(kind='bar', title='Frequência(target)');"
   ]
  },
  {
   "cell_type": "code",
   "execution_count": 256,
   "metadata": {},
   "outputs": [],
   "source": [
    "target_encoded = dados['target_encoded']"
   ]
  },
  {
   "cell_type": "markdown",
   "metadata": {},
   "source": [
    "## Validando Modelos\n",
    "\n",
    "Definiremos algumas funções para validar o modelo assim como as métricas ideais para esse caso.\n",
    "\n",
    "Usaremos o classification report para ter uma visão mais geral da performance, porém a principal métrica será o F1-Score pois nossos dados são desbalanceados."
   ]
  },
  {
   "cell_type": "markdown",
   "metadata": {},
   "source": [
    "#### Bag of Words com TFIDF e Count Vectorizer\n",
    "\n",
    "Tokens: Um token é cada elemento dentro de um texto, pode ser uma palavra, sentence, pontuações ou qualquer outro elemento, isso depende da necessidade do modelo.\n",
    "\n",
    "Bag of Words é um técnica para Processamento de Lingaguem Natural, como o próprio nome já diz, transforma os textos em um \"Sacola de Palavra\", onde cada linha são os comentários e cada coluna é seu respectivo token e os valores são uma representação númerica dos tokens.\n",
    "\n",
    "Para fazer essas representação númerica utilizaremos duas técnicas diferentes para testar qual tem melhor pontuação.\n",
    "\n",
    "Count Vectorizer: Converte os textos em uma matrix de contagem de tokens, ou seja, quantas vezes aquele token aparece no texto.\n",
    "\n",
    "TF-IDF: Converte os textos em uma matrix TFIDF.\n",
    "\n",
    "TF significa Term-frequency e TF-IDF significa Term-frequency times inverse document-frenquecy, a ideia é diminuir o impacto de termos que aparecem frequentemente no texto mas não são muito informativos.\n",
    "\n",
    "<img src=\"tfidf-formula.png\">"
   ]
  },
  {
   "cell_type": "code",
   "execution_count": 257,
   "metadata": {},
   "outputs": [],
   "source": [
    "# função para transformar o texto em Matrix Count e TFIDF\n",
    "def bow(feedbacks):\n",
    "    bag_of_words_transformer = TfidfVectorizer()\n",
    "    mx = bag_of_words_transformer.fit_transform(feedbacks).todense()\n",
    "    terms = bag_of_words_transformer.get_feature_names()\n",
    "    dados_tfidf = pd.DataFrame(mx, columns=terms, index=feedbacks)\n",
    "\n",
    "    bag_of_words_transformer = CountVectorizer()\n",
    "    mx = bag_of_words_transformer.fit_transform(feedbacks).todense()\n",
    "    terms = bag_of_words_transformer.get_feature_names()\n",
    "    dados_count = pd.DataFrame(mx, columns=terms, index=feedbacks)\n",
    "    \n",
    "    return (dados_tfidf, dados_count)"
   ]
  },
  {
   "cell_type": "markdown",
   "metadata": {},
   "source": [
    "#### Primeiro Modelo (TFIDF E COUNTVECTORIZER)"
   ]
  },
  {
   "cell_type": "markdown",
   "metadata": {},
   "source": [
    "#### Métricas\n",
    "\n",
    "Recall: Recall é intuitivamente a habilidade do modelo de achar todas as amostras \"Positivas\" (de todas positivas quantas o modelo acertou?).\n",
    "\n",
    "Precision: Precision é intuitivamente a habilidade do modelo não classificar como \"Positivo\" algo que é \"Negativo (de todas classificadas como positivo, quantas realmente eram positivas?).\n",
    "\n",
    "<img src=\"precision-recall-formula.png\">\n",
    "\n",
    "F1-Score: F1-Score é a média harmônica ponderada entre Precision e Recall\n",
    "\n",
    "<img src=\"f1-score-formula.png\">"
   ]
  },
  {
   "cell_type": "code",
   "execution_count": 258,
   "metadata": {},
   "outputs": [],
   "source": [
    "import warnings\n",
    "import sklearn.exceptions\n",
    "warnings.filterwarnings(\"ignore\", category=sklearn.exceptions.UndefinedMetricWarning)"
   ]
  },
  {
   "cell_type": "code",
   "execution_count": 259,
   "metadata": {},
   "outputs": [],
   "source": [
    "dados_tfidf, dados_count = bow(dados.Feedback)"
   ]
  },
  {
   "cell_type": "code",
   "execution_count": 260,
   "metadata": {},
   "outputs": [],
   "source": [
    "svc = SVC(random_state=42)"
   ]
  },
  {
   "cell_type": "code",
   "execution_count": 261,
   "metadata": {},
   "outputs": [
    {
     "data": {
      "text/html": [
       "<div>\n",
       "<style scoped>\n",
       "    .dataframe tbody tr th:only-of-type {\n",
       "        vertical-align: middle;\n",
       "    }\n",
       "\n",
       "    .dataframe tbody tr th {\n",
       "        vertical-align: top;\n",
       "    }\n",
       "\n",
       "    .dataframe thead th {\n",
       "        text-align: right;\n",
       "    }\n",
       "</style>\n",
       "<table border=\"1\" class=\"dataframe\">\n",
       "  <thead>\n",
       "    <tr style=\"text-align: right;\">\n",
       "      <th></th>\n",
       "      <th>test_f1_macro</th>\n",
       "      <th>test_f1_weighted</th>\n",
       "      <th>test_recall_macro</th>\n",
       "      <th>test_precision_macro</th>\n",
       "      <th>test_accuracy</th>\n",
       "    </tr>\n",
       "  </thead>\n",
       "  <tbody>\n",
       "    <tr>\n",
       "      <th>TFIDF</th>\n",
       "      <td>0.806946</td>\n",
       "      <td>0.806934</td>\n",
       "      <td>0.807357</td>\n",
       "      <td>0.809098</td>\n",
       "      <td>0.807220</td>\n",
       "    </tr>\n",
       "    <tr>\n",
       "      <th>COUNT</th>\n",
       "      <td>0.746273</td>\n",
       "      <td>0.746247</td>\n",
       "      <td>0.747673</td>\n",
       "      <td>0.752082</td>\n",
       "      <td>0.747501</td>\n",
       "    </tr>\n",
       "  </tbody>\n",
       "</table>\n",
       "</div>"
      ],
      "text/plain": [
       "       test_f1_macro  test_f1_weighted  test_recall_macro  \\\n",
       "TFIDF       0.806946          0.806934           0.807357   \n",
       "COUNT       0.746273          0.746247           0.747673   \n",
       "\n",
       "       test_precision_macro  test_accuracy  \n",
       "TFIDF              0.809098       0.807220  \n",
       "COUNT              0.752082       0.747501  "
      ]
     },
     "execution_count": 261,
     "metadata": {},
     "output_type": "execute_result"
    }
   ],
   "source": [
    "# scores TFIDF Vectorizer\n",
    "scores_tfidf = cross_validate(svc, dados_tfidf, target_encoded, cv=5,\n",
    "                        scoring=('f1_macro', 'f1_weighted', 'recall_macro', 'precision_macro', 'accuracy'))\n",
    "scores_tfidf = pd.DataFrame.from_dict(scores_tfidf)\n",
    "\n",
    "# scores Count Vectorizer\n",
    "scores_count = cross_validate(svc, dados_count, target_encoded, cv=5,\n",
    "                        scoring=('f1_macro', 'f1_weighted', 'recall_macro', 'precision_macro', 'accuracy'))\n",
    "scores_count = pd.DataFrame.from_dict(scores_count)\n",
    "\n",
    "scores_tfidf = pd.DataFrame(scores_tfidf.mean()).T\n",
    "scores_count = pd.DataFrame(scores_count.mean()).T\n",
    "scores = pd.concat([scores_tfidf, scores_count])\n",
    "scores.index = ['TFIDF', 'COUNT']\n",
    "scores.drop(columns=['fit_time', 'score_time'], inplace=True)\n",
    "scores"
   ]
  },
  {
   "cell_type": "markdown",
   "metadata": {},
   "source": [
    "#### Segundo Modelo (Coluna de Contagem de Palavras)"
   ]
  },
  {
   "cell_type": "code",
   "execution_count": 262,
   "metadata": {},
   "outputs": [],
   "source": [
    "dados_tfidf, dados_count = bow(dados.Feedback)\n",
    "dados_tfidf['Contagem_palavras'] = list(dados['Contagem_palavras'])\n",
    "dados_count['Contagem_palavras'] = list(dados['Contagem_palavras'])"
   ]
  },
  {
   "cell_type": "code",
   "execution_count": 263,
   "metadata": {},
   "outputs": [],
   "source": [
    "from sklearn.preprocessing import StandardScaler\n",
    "\n",
    "scaler = StandardScaler()\n",
    "dados_tfidf = scaler.fit_transform(dados_tfidf)\n",
    "dados_count = scaler.fit_transform(dados_count)"
   ]
  },
  {
   "cell_type": "code",
   "execution_count": 264,
   "metadata": {},
   "outputs": [
    {
     "data": {
      "text/html": [
       "<div>\n",
       "<style scoped>\n",
       "    .dataframe tbody tr th:only-of-type {\n",
       "        vertical-align: middle;\n",
       "    }\n",
       "\n",
       "    .dataframe tbody tr th {\n",
       "        vertical-align: top;\n",
       "    }\n",
       "\n",
       "    .dataframe thead th {\n",
       "        text-align: right;\n",
       "    }\n",
       "</style>\n",
       "<table border=\"1\" class=\"dataframe\">\n",
       "  <thead>\n",
       "    <tr style=\"text-align: right;\">\n",
       "      <th></th>\n",
       "      <th>test_f1_macro</th>\n",
       "      <th>test_f1_weighted</th>\n",
       "      <th>test_recall_macro</th>\n",
       "      <th>test_precision_macro</th>\n",
       "      <th>test_accuracy</th>\n",
       "    </tr>\n",
       "  </thead>\n",
       "  <tbody>\n",
       "    <tr>\n",
       "      <th>TFIDF</th>\n",
       "      <td>0.681713</td>\n",
       "      <td>0.681796</td>\n",
       "      <td>0.684610</td>\n",
       "      <td>0.691161</td>\n",
       "      <td>0.684783</td>\n",
       "    </tr>\n",
       "    <tr>\n",
       "      <th>COUNT</th>\n",
       "      <td>0.651266</td>\n",
       "      <td>0.651299</td>\n",
       "      <td>0.657733</td>\n",
       "      <td>0.670019</td>\n",
       "      <td>0.657756</td>\n",
       "    </tr>\n",
       "  </tbody>\n",
       "</table>\n",
       "</div>"
      ],
      "text/plain": [
       "       test_f1_macro  test_f1_weighted  test_recall_macro  \\\n",
       "TFIDF       0.681713          0.681796           0.684610   \n",
       "COUNT       0.651266          0.651299           0.657733   \n",
       "\n",
       "       test_precision_macro  test_accuracy  \n",
       "TFIDF              0.691161       0.684783  \n",
       "COUNT              0.670019       0.657756  "
      ]
     },
     "execution_count": 264,
     "metadata": {},
     "output_type": "execute_result"
    }
   ],
   "source": [
    "# scores TFIDF Vectorizer\n",
    "scores_tfidf = cross_validate(svc, dados_tfidf, target_encoded, cv=5,\n",
    "                        scoring=('f1_macro', 'f1_weighted', 'recall_macro', 'precision_macro', 'accuracy'))\n",
    "scores_tfidf = pd.DataFrame.from_dict(scores_tfidf)\n",
    "\n",
    "# scores Count Vectorizer\n",
    "scores_count = cross_validate(svc, dados_count, target_encoded, cv=5,\n",
    "                        scoring=('f1_macro', 'f1_weighted', 'recall_macro', 'precision_macro', 'accuracy'))\n",
    "scores_count = pd.DataFrame.from_dict(scores_count)\n",
    "\n",
    "scores_tfidf = pd.DataFrame(scores_tfidf.mean()).T\n",
    "scores_count = pd.DataFrame(scores_count.mean()).T\n",
    "scores = pd.concat([scores_tfidf, scores_count])\n",
    "scores.index = ['TFIDF', 'COUNT']\n",
    "scores.drop(columns=['fit_time', 'score_time'], inplace=True)\n",
    "scores"
   ]
  },
  {
   "cell_type": "markdown",
   "metadata": {},
   "source": [
    "#### Terceiro Modelo (Coluna de Contagem de Stopwords)"
   ]
  },
  {
   "cell_type": "code",
   "execution_count": 265,
   "metadata": {},
   "outputs": [],
   "source": [
    "dados_tfidf, dados_count = bow(dados.Feedback)\n",
    "dados_tfidf['Contagem_stopwords'] = list(dados['Contagem_stopwords'])\n",
    "dados_count['Contagem_stopwords'] = list(dados['Contagem_stopwords'])"
   ]
  },
  {
   "cell_type": "code",
   "execution_count": 266,
   "metadata": {},
   "outputs": [],
   "source": [
    "scaler = StandardScaler()\n",
    "dados_tfidf = scaler.fit_transform(dados_tfidf)\n",
    "dados_count = scaler.fit_transform(dados_count)"
   ]
  },
  {
   "cell_type": "code",
   "execution_count": 267,
   "metadata": {},
   "outputs": [
    {
     "data": {
      "text/html": [
       "<div>\n",
       "<style scoped>\n",
       "    .dataframe tbody tr th:only-of-type {\n",
       "        vertical-align: middle;\n",
       "    }\n",
       "\n",
       "    .dataframe tbody tr th {\n",
       "        vertical-align: top;\n",
       "    }\n",
       "\n",
       "    .dataframe thead th {\n",
       "        text-align: right;\n",
       "    }\n",
       "</style>\n",
       "<table border=\"1\" class=\"dataframe\">\n",
       "  <thead>\n",
       "    <tr style=\"text-align: right;\">\n",
       "      <th></th>\n",
       "      <th>test_f1_macro</th>\n",
       "      <th>test_f1_weighted</th>\n",
       "      <th>test_recall_macro</th>\n",
       "      <th>test_precision_macro</th>\n",
       "      <th>test_accuracy</th>\n",
       "    </tr>\n",
       "  </thead>\n",
       "  <tbody>\n",
       "    <tr>\n",
       "      <th>TFIDF</th>\n",
       "      <td>0.681713</td>\n",
       "      <td>0.681796</td>\n",
       "      <td>0.684610</td>\n",
       "      <td>0.691161</td>\n",
       "      <td>0.684783</td>\n",
       "    </tr>\n",
       "    <tr>\n",
       "      <th>COUNT</th>\n",
       "      <td>0.651266</td>\n",
       "      <td>0.651299</td>\n",
       "      <td>0.657733</td>\n",
       "      <td>0.670019</td>\n",
       "      <td>0.657756</td>\n",
       "    </tr>\n",
       "  </tbody>\n",
       "</table>\n",
       "</div>"
      ],
      "text/plain": [
       "       test_f1_macro  test_f1_weighted  test_recall_macro  \\\n",
       "TFIDF       0.681713          0.681796           0.684610   \n",
       "COUNT       0.651266          0.651299           0.657733   \n",
       "\n",
       "       test_precision_macro  test_accuracy  \n",
       "TFIDF              0.691161       0.684783  \n",
       "COUNT              0.670019       0.657756  "
      ]
     },
     "execution_count": 267,
     "metadata": {},
     "output_type": "execute_result"
    }
   ],
   "source": [
    "# scores TFIDF Vectorizer\n",
    "scores_tfidf = cross_validate(svc, dados_tfidf, target_encoded, cv=5,\n",
    "                        scoring=('f1_macro', 'f1_weighted', 'recall_macro', 'precision_macro', 'accuracy'))\n",
    "scores_tfidf = pd.DataFrame.from_dict(scores_tfidf)\n",
    "\n",
    "# scores Count Vectorizer\n",
    "scores_count = cross_validate(svc, dados_count, target_encoded, cv=5,\n",
    "                        scoring=('f1_macro', 'f1_weighted', 'recall_macro', 'precision_macro', 'accuracy'))\n",
    "scores_count = pd.DataFrame.from_dict(scores_count)\n",
    "\n",
    "scores_tfidf = pd.DataFrame(scores_tfidf.mean()).T\n",
    "scores_count = pd.DataFrame(scores_count.mean()).T\n",
    "scores = pd.concat([scores_tfidf, scores_count])\n",
    "scores.index = ['TFIDF', 'COUNT']\n",
    "scores.drop(columns=['fit_time', 'score_time'], inplace=True)\n",
    "scores"
   ]
  },
  {
   "cell_type": "markdown",
   "metadata": {},
   "source": [
    "#### Quarto Modelo (Sem stopwords)"
   ]
  },
  {
   "cell_type": "code",
   "execution_count": 268,
   "metadata": {},
   "outputs": [],
   "source": [
    "target_encoded = dados[dados.Feedback_stop != '']['target_encoded']"
   ]
  },
  {
   "cell_type": "code",
   "execution_count": 269,
   "metadata": {},
   "outputs": [],
   "source": [
    "dados_tfidf, dados_count = bow(dados[dados.Feedback_stop != '']['Feedback_stop'])"
   ]
  },
  {
   "cell_type": "code",
   "execution_count": 270,
   "metadata": {},
   "outputs": [
    {
     "data": {
      "text/html": [
       "<div>\n",
       "<style scoped>\n",
       "    .dataframe tbody tr th:only-of-type {\n",
       "        vertical-align: middle;\n",
       "    }\n",
       "\n",
       "    .dataframe tbody tr th {\n",
       "        vertical-align: top;\n",
       "    }\n",
       "\n",
       "    .dataframe thead th {\n",
       "        text-align: right;\n",
       "    }\n",
       "</style>\n",
       "<table border=\"1\" class=\"dataframe\">\n",
       "  <thead>\n",
       "    <tr style=\"text-align: right;\">\n",
       "      <th></th>\n",
       "      <th>test_f1_macro</th>\n",
       "      <th>test_f1_weighted</th>\n",
       "      <th>test_recall_macro</th>\n",
       "      <th>test_precision_macro</th>\n",
       "      <th>test_accuracy</th>\n",
       "    </tr>\n",
       "  </thead>\n",
       "  <tbody>\n",
       "    <tr>\n",
       "      <th>TFIDF</th>\n",
       "      <td>0.738515</td>\n",
       "      <td>0.738722</td>\n",
       "      <td>0.739940</td>\n",
       "      <td>0.744044</td>\n",
       "      <td>0.740504</td>\n",
       "    </tr>\n",
       "    <tr>\n",
       "      <th>COUNT</th>\n",
       "      <td>0.700081</td>\n",
       "      <td>0.700060</td>\n",
       "      <td>0.702477</td>\n",
       "      <td>0.708439</td>\n",
       "      <td>0.702258</td>\n",
       "    </tr>\n",
       "  </tbody>\n",
       "</table>\n",
       "</div>"
      ],
      "text/plain": [
       "       test_f1_macro  test_f1_weighted  test_recall_macro  \\\n",
       "TFIDF       0.738515          0.738722           0.739940   \n",
       "COUNT       0.700081          0.700060           0.702477   \n",
       "\n",
       "       test_precision_macro  test_accuracy  \n",
       "TFIDF              0.744044       0.740504  \n",
       "COUNT              0.708439       0.702258  "
      ]
     },
     "execution_count": 270,
     "metadata": {},
     "output_type": "execute_result"
    }
   ],
   "source": [
    "# scores TFIDF Vectorizer\n",
    "scores_tfidf = cross_validate(svc, dados_tfidf, target_encoded, cv=5,\n",
    "                        scoring=('f1_macro', 'f1_weighted', 'recall_macro', 'precision_macro', 'accuracy'))\n",
    "scores_tfidf = pd.DataFrame.from_dict(scores_tfidf)\n",
    "\n",
    "# scores Count Vectorizer\n",
    "scores_count = cross_validate(svc, dados_count, target_encoded, cv=5,\n",
    "                        scoring=('f1_macro', 'f1_weighted', 'recall_macro', 'precision_macro', 'accuracy'))\n",
    "scores_count = pd.DataFrame.from_dict(scores_count)\n",
    "\n",
    "scores_tfidf = pd.DataFrame(scores_tfidf.mean()).T\n",
    "scores_count = pd.DataFrame(scores_count.mean()).T\n",
    "scores = pd.concat([scores_tfidf, scores_count])\n",
    "scores.index = ['TFIDF', 'COUNT']\n",
    "scores.drop(columns=['fit_time', 'score_time'], inplace=True)\n",
    "scores"
   ]
  },
  {
   "cell_type": "markdown",
   "metadata": {},
   "source": [
    "#### Quinto Modelo (Tag de Negação)"
   ]
  },
  {
   "cell_type": "code",
   "execution_count": 271,
   "metadata": {},
   "outputs": [],
   "source": [
    "feedback_tag_neg = dados['Feedback'].apply(lambda x: marque_negacao(x))\n",
    "dados['Feedback_tag_neg'] = feedback_tag_neg"
   ]
  },
  {
   "cell_type": "code",
   "execution_count": 272,
   "metadata": {},
   "outputs": [],
   "source": [
    "lista_feedback = []\n",
    "lista_feedback = [RemoveStopWords(feedback) for feedback in dados.Feedback_tag_neg]\n",
    "dados['Feedback_tag_neg'] = lista_feedback"
   ]
  },
  {
   "cell_type": "code",
   "execution_count": 273,
   "metadata": {},
   "outputs": [],
   "source": [
    "le.fit(dados[dados.Feedback_tag_neg != '']['Sentimento'])\n",
    "target_encoded_tag_n = le.transform(dados[dados.Feedback_tag_neg != '']['Sentimento'])"
   ]
  },
  {
   "cell_type": "code",
   "execution_count": 274,
   "metadata": {},
   "outputs": [],
   "source": [
    "dados_tfidf, dados_count = bow(dados[dados.Feedback_tag_neg != '']['Feedback_tag_neg'])"
   ]
  },
  {
   "cell_type": "code",
   "execution_count": 275,
   "metadata": {},
   "outputs": [
    {
     "data": {
      "text/html": [
       "<div>\n",
       "<style scoped>\n",
       "    .dataframe tbody tr th:only-of-type {\n",
       "        vertical-align: middle;\n",
       "    }\n",
       "\n",
       "    .dataframe tbody tr th {\n",
       "        vertical-align: top;\n",
       "    }\n",
       "\n",
       "    .dataframe thead th {\n",
       "        text-align: right;\n",
       "    }\n",
       "</style>\n",
       "<table border=\"1\" class=\"dataframe\">\n",
       "  <thead>\n",
       "    <tr style=\"text-align: right;\">\n",
       "      <th></th>\n",
       "      <th>test_f1_macro</th>\n",
       "      <th>test_f1_weighted</th>\n",
       "      <th>test_recall_macro</th>\n",
       "      <th>test_precision_macro</th>\n",
       "      <th>test_accuracy</th>\n",
       "    </tr>\n",
       "  </thead>\n",
       "  <tbody>\n",
       "    <tr>\n",
       "      <th>TFIDF</th>\n",
       "      <td>0.751136</td>\n",
       "      <td>0.751186</td>\n",
       "      <td>0.751426</td>\n",
       "      <td>0.753099</td>\n",
       "      <td>0.751536</td>\n",
       "    </tr>\n",
       "    <tr>\n",
       "      <th>COUNT</th>\n",
       "      <td>0.716066</td>\n",
       "      <td>0.716016</td>\n",
       "      <td>0.721697</td>\n",
       "      <td>0.738855</td>\n",
       "      <td>0.721362</td>\n",
       "    </tr>\n",
       "  </tbody>\n",
       "</table>\n",
       "</div>"
      ],
      "text/plain": [
       "       test_f1_macro  test_f1_weighted  test_recall_macro  \\\n",
       "TFIDF       0.751136          0.751186           0.751426   \n",
       "COUNT       0.716066          0.716016           0.721697   \n",
       "\n",
       "       test_precision_macro  test_accuracy  \n",
       "TFIDF              0.753099       0.751536  \n",
       "COUNT              0.738855       0.721362  "
      ]
     },
     "execution_count": 275,
     "metadata": {},
     "output_type": "execute_result"
    }
   ],
   "source": [
    "# scores TFIDF Vectorizer\n",
    "scores_tfidf = cross_validate(svc, dados_tfidf, target_encoded, cv=5,\n",
    "                        scoring=('f1_macro', 'f1_weighted', 'recall_macro', 'precision_macro', 'accuracy'))\n",
    "scores_tfidf = pd.DataFrame.from_dict(scores_tfidf)\n",
    "\n",
    "# scores Count Vectorizer\n",
    "scores_count = cross_validate(svc, dados_count, target_encoded, cv=5,\n",
    "                        scoring=('f1_macro', 'f1_weighted', 'recall_macro', 'precision_macro', 'accuracy'))\n",
    "scores_count = pd.DataFrame.from_dict(scores_count)\n",
    "\n",
    "scores_tfidf = pd.DataFrame(scores_tfidf.mean()).T\n",
    "scores_count = pd.DataFrame(scores_count.mean()).T\n",
    "scores = pd.concat([scores_tfidf, scores_count])\n",
    "scores.index = ['TFIDF', 'COUNT']\n",
    "scores.drop(columns=['fit_time', 'score_time'], inplace=True)\n",
    "scores"
   ]
  },
  {
   "cell_type": "markdown",
   "metadata": {},
   "source": [
    "#### Sexto Modelo (Stemming)"
   ]
  },
  {
   "cell_type": "code",
   "execution_count": 276,
   "metadata": {},
   "outputs": [],
   "source": [
    "feedback_stem = dados['Feedback'].apply(lambda x: Stemming(x))"
   ]
  },
  {
   "cell_type": "code",
   "execution_count": 277,
   "metadata": {},
   "outputs": [],
   "source": [
    "dados_tfidf, dados_count = bow(feedback_stem)"
   ]
  },
  {
   "cell_type": "code",
   "execution_count": 278,
   "metadata": {},
   "outputs": [],
   "source": [
    "target_encoded = dados['target_encoded']"
   ]
  },
  {
   "cell_type": "code",
   "execution_count": 279,
   "metadata": {},
   "outputs": [
    {
     "data": {
      "text/html": [
       "<div>\n",
       "<style scoped>\n",
       "    .dataframe tbody tr th:only-of-type {\n",
       "        vertical-align: middle;\n",
       "    }\n",
       "\n",
       "    .dataframe tbody tr th {\n",
       "        vertical-align: top;\n",
       "    }\n",
       "\n",
       "    .dataframe thead th {\n",
       "        text-align: right;\n",
       "    }\n",
       "</style>\n",
       "<table border=\"1\" class=\"dataframe\">\n",
       "  <thead>\n",
       "    <tr style=\"text-align: right;\">\n",
       "      <th></th>\n",
       "      <th>test_f1_macro</th>\n",
       "      <th>test_f1_weighted</th>\n",
       "      <th>test_recall_macro</th>\n",
       "      <th>test_precision_macro</th>\n",
       "      <th>test_accuracy</th>\n",
       "    </tr>\n",
       "  </thead>\n",
       "  <tbody>\n",
       "    <tr>\n",
       "      <th>TFIDF</th>\n",
       "      <td>0.806487</td>\n",
       "      <td>0.806448</td>\n",
       "      <td>0.807357</td>\n",
       "      <td>0.811565</td>\n",
       "      <td>0.807071</td>\n",
       "    </tr>\n",
       "    <tr>\n",
       "      <th>COUNT</th>\n",
       "      <td>0.760277</td>\n",
       "      <td>0.760286</td>\n",
       "      <td>0.761036</td>\n",
       "      <td>0.763940</td>\n",
       "      <td>0.761051</td>\n",
       "    </tr>\n",
       "  </tbody>\n",
       "</table>\n",
       "</div>"
      ],
      "text/plain": [
       "       test_f1_macro  test_f1_weighted  test_recall_macro  \\\n",
       "TFIDF       0.806487          0.806448           0.807357   \n",
       "COUNT       0.760277          0.760286           0.761036   \n",
       "\n",
       "       test_precision_macro  test_accuracy  \n",
       "TFIDF              0.811565       0.807071  \n",
       "COUNT              0.763940       0.761051  "
      ]
     },
     "execution_count": 279,
     "metadata": {},
     "output_type": "execute_result"
    }
   ],
   "source": [
    "# scores TFIDF Vectorizer\n",
    "scores_tfidf = cross_validate(svc, dados_tfidf, target_encoded, cv=5,\n",
    "                        scoring=('f1_macro', 'f1_weighted', 'recall_macro', 'precision_macro', 'accuracy'))\n",
    "scores_tfidf = pd.DataFrame.from_dict(scores_tfidf)\n",
    "\n",
    "# scores Count Vectorizer\n",
    "scores_count = cross_validate(svc, dados_count, target_encoded, cv=5,\n",
    "                        scoring=('f1_macro', 'f1_weighted', 'recall_macro', 'precision_macro', 'accuracy'))\n",
    "scores_count = pd.DataFrame.from_dict(scores_count)\n",
    "\n",
    "scores_tfidf = pd.DataFrame(scores_tfidf.mean()).T\n",
    "scores_count = pd.DataFrame(scores_count.mean()).T\n",
    "scores = pd.concat([scores_tfidf, scores_count])\n",
    "scores.index = ['TFIDF', 'COUNT']\n",
    "scores.drop(columns=['fit_time', 'score_time'], inplace=True)\n",
    "scores"
   ]
  },
  {
   "cell_type": "markdown",
   "metadata": {},
   "source": [
    "#### Sétimo Modelo (Lemmatization)"
   ]
  },
  {
   "cell_type": "code",
   "execution_count": 280,
   "metadata": {},
   "outputs": [],
   "source": [
    "feedback_lem = dados['Feedback'].apply(lambda x: Lemmatization(x))"
   ]
  },
  {
   "cell_type": "code",
   "execution_count": 281,
   "metadata": {},
   "outputs": [],
   "source": [
    "dados_tfidf, dados_count = bow(feedback_lem)"
   ]
  },
  {
   "cell_type": "code",
   "execution_count": 284,
   "metadata": {},
   "outputs": [
    {
     "data": {
      "text/html": [
       "<div>\n",
       "<style scoped>\n",
       "    .dataframe tbody tr th:only-of-type {\n",
       "        vertical-align: middle;\n",
       "    }\n",
       "\n",
       "    .dataframe tbody tr th {\n",
       "        vertical-align: top;\n",
       "    }\n",
       "\n",
       "    .dataframe thead th {\n",
       "        text-align: right;\n",
       "    }\n",
       "</style>\n",
       "<table border=\"1\" class=\"dataframe\">\n",
       "  <thead>\n",
       "    <tr style=\"text-align: right;\">\n",
       "      <th></th>\n",
       "      <th>test_f1_macro</th>\n",
       "      <th>test_f1_weighted</th>\n",
       "      <th>test_recall_macro</th>\n",
       "      <th>test_precision_macro</th>\n",
       "      <th>test_accuracy</th>\n",
       "    </tr>\n",
       "  </thead>\n",
       "  <tbody>\n",
       "    <tr>\n",
       "      <th>TFIDF</th>\n",
       "      <td>0.815021</td>\n",
       "      <td>0.815028</td>\n",
       "      <td>0.815465</td>\n",
       "      <td>0.817752</td>\n",
       "      <td>0.815439</td>\n",
       "    </tr>\n",
       "    <tr>\n",
       "      <th>COUNT</th>\n",
       "      <td>0.757441</td>\n",
       "      <td>0.757427</td>\n",
       "      <td>0.758559</td>\n",
       "      <td>0.762101</td>\n",
       "      <td>0.758423</td>\n",
       "    </tr>\n",
       "  </tbody>\n",
       "</table>\n",
       "</div>"
      ],
      "text/plain": [
       "       test_f1_macro  test_f1_weighted  test_recall_macro  \\\n",
       "TFIDF       0.815021          0.815028           0.815465   \n",
       "COUNT       0.757441          0.757427           0.758559   \n",
       "\n",
       "       test_precision_macro  test_accuracy  \n",
       "TFIDF              0.817752       0.815439  \n",
       "COUNT              0.762101       0.758423  "
      ]
     },
     "execution_count": 284,
     "metadata": {},
     "output_type": "execute_result"
    }
   ],
   "source": [
    "# scores TFIDF Vectorizer\n",
    "scores_tfidf = cross_validate(svc, dados_tfidf, target_encoded, cv=5,\n",
    "                        scoring=('f1_macro', 'f1_weighted', 'recall_macro', 'precision_macro', 'accuracy'))\n",
    "scores_tfidf = pd.DataFrame.from_dict(scores_tfidf)\n",
    "\n",
    "# scores Count Vectorizer\n",
    "scores_count = cross_validate(svc, dados_count, target_encoded, cv=5,\n",
    "                        scoring=('f1_macro', 'f1_weighted', 'recall_macro', 'precision_macro', 'accuracy'))\n",
    "scores_count = pd.DataFrame.from_dict(scores_count)\n",
    "\n",
    "scores_tfidf = pd.DataFrame(scores_tfidf.mean()).T\n",
    "scores_count = pd.DataFrame(scores_count.mean()).T\n",
    "scores = pd.concat([scores_tfidf, scores_count])\n",
    "scores.index = ['TFIDF', 'COUNT']\n",
    "scores.drop(columns=['fit_time', 'score_time'], inplace=True)\n",
    "scores"
   ]
  },
  {
   "cell_type": "markdown",
   "metadata": {},
   "source": [
    "#### Oitavo Modelo (Testando features juntas)"
   ]
  },
  {
   "cell_type": "code",
   "execution_count": 195,
   "metadata": {},
   "outputs": [],
   "source": [
    "# Lemmatization e sem Stopwords"
   ]
  },
  {
   "cell_type": "code",
   "execution_count": 196,
   "metadata": {},
   "outputs": [],
   "source": [
    "feedback_lem = dados['Feedback_stop'].apply(lambda x: Lemmatization(x))"
   ]
  },
  {
   "cell_type": "code",
   "execution_count": 197,
   "metadata": {},
   "outputs": [],
   "source": [
    "dados_tfidf, dados_count = bow(feedback_lem)"
   ]
  },
  {
   "cell_type": "code",
   "execution_count": 198,
   "metadata": {},
   "outputs": [],
   "source": [
    "target_encoded = dados['target_encoded']"
   ]
  },
  {
   "cell_type": "code",
   "execution_count": 199,
   "metadata": {},
   "outputs": [
    {
     "data": {
      "text/html": [
       "<div>\n",
       "<style scoped>\n",
       "    .dataframe tbody tr th:only-of-type {\n",
       "        vertical-align: middle;\n",
       "    }\n",
       "\n",
       "    .dataframe tbody tr th {\n",
       "        vertical-align: top;\n",
       "    }\n",
       "\n",
       "    .dataframe thead th {\n",
       "        text-align: right;\n",
       "    }\n",
       "</style>\n",
       "<table border=\"1\" class=\"dataframe\">\n",
       "  <thead>\n",
       "    <tr style=\"text-align: right;\">\n",
       "      <th></th>\n",
       "      <th>test_f1_macro</th>\n",
       "      <th>test_f1_weighted</th>\n",
       "      <th>test_recall_macro</th>\n",
       "      <th>test_precision_macro</th>\n",
       "      <th>test_accuracy</th>\n",
       "    </tr>\n",
       "  </thead>\n",
       "  <tbody>\n",
       "    <tr>\n",
       "      <th>TFIDF</th>\n",
       "      <td>0.741007</td>\n",
       "      <td>0.741015</td>\n",
       "      <td>0.742117</td>\n",
       "      <td>0.745096</td>\n",
       "      <td>0.742096</td>\n",
       "    </tr>\n",
       "    <tr>\n",
       "      <th>COUNT</th>\n",
       "      <td>0.699694</td>\n",
       "      <td>0.699723</td>\n",
       "      <td>0.701201</td>\n",
       "      <td>0.705084</td>\n",
       "      <td>0.701222</td>\n",
       "    </tr>\n",
       "  </tbody>\n",
       "</table>\n",
       "</div>"
      ],
      "text/plain": [
       "       test_f1_macro  test_f1_weighted  test_recall_macro  \\\n",
       "TFIDF       0.741007          0.741015           0.742117   \n",
       "COUNT       0.699694          0.699723           0.701201   \n",
       "\n",
       "       test_precision_macro  test_accuracy  \n",
       "TFIDF              0.745096       0.742096  \n",
       "COUNT              0.705084       0.701222  "
      ]
     },
     "execution_count": 199,
     "metadata": {},
     "output_type": "execute_result"
    }
   ],
   "source": [
    "# scores TFIDF Vectorizer\n",
    "scores_tfidf = cross_validate(svc, dados_tfidf, target_encoded, cv=5,\n",
    "                        scoring=('f1_macro', 'f1_weighted', 'recall_macro', 'precision_macro', 'accuracy'))\n",
    "scores_tfidf = pd.DataFrame.from_dict(scores_tfidf)\n",
    "\n",
    "# scores Count Vectorizer\n",
    "scores_count = cross_validate(svc, dados_count, target_encoded, cv=5,\n",
    "                        scoring=('f1_macro', 'f1_weighted', 'recall_macro', 'precision_macro', 'accuracy'))\n",
    "scores_count = pd.DataFrame.from_dict(scores_count)\n",
    "\n",
    "scores_tfidf = pd.DataFrame(scores_tfidf.mean()).T\n",
    "scores_count = pd.DataFrame(scores_count.mean()).T\n",
    "scores = pd.concat([scores_tfidf, scores_count])\n",
    "scores.index = ['TFIDF', 'COUNT']\n",
    "scores.drop(columns=['fit_time', 'score_time'], inplace=True)\n",
    "scores"
   ]
  },
  {
   "cell_type": "markdown",
   "metadata": {},
   "source": [
    "#### Nono Modelo (Testando modelos diferentes)"
   ]
  },
  {
   "cell_type": "code",
   "execution_count": 285,
   "metadata": {},
   "outputs": [],
   "source": [
    "feedback_lem = dados['Feedback'].apply(lambda x: Lemmatization(x))\n",
    "dados_tfidf, dados_count = bow(feedback_lem)"
   ]
  },
  {
   "cell_type": "code",
   "execution_count": 286,
   "metadata": {},
   "outputs": [
    {
     "data": {
      "text/html": [
       "<div>\n",
       "<style scoped>\n",
       "    .dataframe tbody tr th:only-of-type {\n",
       "        vertical-align: middle;\n",
       "    }\n",
       "\n",
       "    .dataframe tbody tr th {\n",
       "        vertical-align: top;\n",
       "    }\n",
       "\n",
       "    .dataframe thead th {\n",
       "        text-align: right;\n",
       "    }\n",
       "</style>\n",
       "<table border=\"1\" class=\"dataframe\">\n",
       "  <thead>\n",
       "    <tr style=\"text-align: right;\">\n",
       "      <th></th>\n",
       "      <th>test_f1_macro</th>\n",
       "      <th>test_f1_weighted</th>\n",
       "      <th>test_recall_macro</th>\n",
       "      <th>test_precision_macro</th>\n",
       "      <th>test_accuracy</th>\n",
       "    </tr>\n",
       "  </thead>\n",
       "  <tbody>\n",
       "    <tr>\n",
       "      <th>TFIDF</th>\n",
       "      <td>0.815021</td>\n",
       "      <td>0.815028</td>\n",
       "      <td>0.815465</td>\n",
       "      <td>0.817752</td>\n",
       "      <td>0.815439</td>\n",
       "    </tr>\n",
       "    <tr>\n",
       "      <th>COUNT</th>\n",
       "      <td>0.757441</td>\n",
       "      <td>0.757427</td>\n",
       "      <td>0.758559</td>\n",
       "      <td>0.762101</td>\n",
       "      <td>0.758423</td>\n",
       "    </tr>\n",
       "  </tbody>\n",
       "</table>\n",
       "</div>"
      ],
      "text/plain": [
       "       test_f1_macro  test_f1_weighted  test_recall_macro  \\\n",
       "TFIDF       0.815021          0.815028           0.815465   \n",
       "COUNT       0.757441          0.757427           0.758559   \n",
       "\n",
       "       test_precision_macro  test_accuracy  \n",
       "TFIDF              0.817752       0.815439  \n",
       "COUNT              0.762101       0.758423  "
      ]
     },
     "execution_count": 286,
     "metadata": {},
     "output_type": "execute_result"
    }
   ],
   "source": [
    "# scores TFIDF Vectorizer\n",
    "scores_tfidf = cross_validate(svc, dados_tfidf, target_encoded, cv=5,\n",
    "                        scoring=('f1_macro', 'f1_weighted', 'recall_macro', 'precision_macro', 'accuracy'))\n",
    "scores_tfidf = pd.DataFrame.from_dict(scores_tfidf)\n",
    "\n",
    "# scores Count Vectorizer\n",
    "scores_count = cross_validate(svc, dados_count, target_encoded, cv=5,\n",
    "                        scoring=('f1_macro', 'f1_weighted', 'recall_macro', 'precision_macro', 'accuracy'))\n",
    "scores_count = pd.DataFrame.from_dict(scores_count)\n",
    "\n",
    "scores_tfidf = pd.DataFrame(scores_tfidf.mean()).T\n",
    "scores_count = pd.DataFrame(scores_count.mean()).T\n",
    "scores = pd.concat([scores_tfidf, scores_count])\n",
    "scores.index = ['TFIDF', 'COUNT']\n",
    "scores.drop(columns=['fit_time', 'score_time'], inplace=True)\n",
    "scores"
   ]
  },
  {
   "cell_type": "code",
   "execution_count": 287,
   "metadata": {},
   "outputs": [
    {
     "data": {
      "text/html": [
       "<div>\n",
       "<style scoped>\n",
       "    .dataframe tbody tr th:only-of-type {\n",
       "        vertical-align: middle;\n",
       "    }\n",
       "\n",
       "    .dataframe tbody tr th {\n",
       "        vertical-align: top;\n",
       "    }\n",
       "\n",
       "    .dataframe thead th {\n",
       "        text-align: right;\n",
       "    }\n",
       "</style>\n",
       "<table border=\"1\" class=\"dataframe\">\n",
       "  <thead>\n",
       "    <tr style=\"text-align: right;\">\n",
       "      <th></th>\n",
       "      <th>test_f1_macro</th>\n",
       "      <th>test_f1_weighted</th>\n",
       "      <th>test_recall_macro</th>\n",
       "      <th>test_precision_macro</th>\n",
       "      <th>test_accuracy</th>\n",
       "    </tr>\n",
       "  </thead>\n",
       "  <tbody>\n",
       "    <tr>\n",
       "      <th>TFIDF</th>\n",
       "      <td>0.695883</td>\n",
       "      <td>0.695883</td>\n",
       "      <td>0.701426</td>\n",
       "      <td>0.712768</td>\n",
       "      <td>0.701407</td>\n",
       "    </tr>\n",
       "    <tr>\n",
       "      <th>COUNT</th>\n",
       "      <td>0.721180</td>\n",
       "      <td>0.721182</td>\n",
       "      <td>0.723123</td>\n",
       "      <td>0.727871</td>\n",
       "      <td>0.723103</td>\n",
       "    </tr>\n",
       "  </tbody>\n",
       "</table>\n",
       "</div>"
      ],
      "text/plain": [
       "       test_f1_macro  test_f1_weighted  test_recall_macro  \\\n",
       "TFIDF       0.695883          0.695883           0.701426   \n",
       "COUNT       0.721180          0.721182           0.723123   \n",
       "\n",
       "       test_precision_macro  test_accuracy  \n",
       "TFIDF              0.712768       0.701407  \n",
       "COUNT              0.727871       0.723103  "
      ]
     },
     "execution_count": 287,
     "metadata": {},
     "output_type": "execute_result"
    }
   ],
   "source": [
    "# scores TFIDF Vectorizer\n",
    "scores_tfidf = cross_validate(GaussianNB(), dados_tfidf, target_encoded, cv=5,\n",
    "                        scoring=('f1_macro', 'f1_weighted', 'recall_macro', 'precision_macro', 'accuracy'))\n",
    "scores_tfidf = pd.DataFrame.from_dict(scores_tfidf)\n",
    "\n",
    "# scores Count Vectorizer\n",
    "scores_count = cross_validate(GaussianNB(), dados_count, target_encoded, cv=5,\n",
    "                        scoring=('f1_macro', 'f1_weighted', 'recall_macro', 'precision_macro', 'accuracy'))\n",
    "scores_count = pd.DataFrame.from_dict(scores_count)\n",
    "\n",
    "scores_tfidf = pd.DataFrame(scores_tfidf.mean()).T\n",
    "scores_count = pd.DataFrame(scores_count.mean()).T\n",
    "scores = pd.concat([scores_tfidf, scores_count])\n",
    "scores.index = ['TFIDF', 'COUNT']\n",
    "scores.drop(columns=['fit_time', 'score_time'], inplace=True)\n",
    "scores"
   ]
  },
  {
   "cell_type": "code",
   "execution_count": 288,
   "metadata": {},
   "outputs": [
    {
     "data": {
      "text/html": [
       "<div>\n",
       "<style scoped>\n",
       "    .dataframe tbody tr th:only-of-type {\n",
       "        vertical-align: middle;\n",
       "    }\n",
       "\n",
       "    .dataframe tbody tr th {\n",
       "        vertical-align: top;\n",
       "    }\n",
       "\n",
       "    .dataframe thead th {\n",
       "        text-align: right;\n",
       "    }\n",
       "</style>\n",
       "<table border=\"1\" class=\"dataframe\">\n",
       "  <thead>\n",
       "    <tr style=\"text-align: right;\">\n",
       "      <th></th>\n",
       "      <th>test_f1_macro</th>\n",
       "      <th>test_f1_weighted</th>\n",
       "      <th>test_recall_macro</th>\n",
       "      <th>test_precision_macro</th>\n",
       "      <th>test_accuracy</th>\n",
       "    </tr>\n",
       "  </thead>\n",
       "  <tbody>\n",
       "    <tr>\n",
       "      <th>TFIDF</th>\n",
       "      <td>0.798439</td>\n",
       "      <td>0.798454</td>\n",
       "      <td>0.798949</td>\n",
       "      <td>0.80190</td>\n",
       "      <td>0.799000</td>\n",
       "    </tr>\n",
       "    <tr>\n",
       "      <th>COUNT</th>\n",
       "      <td>0.768158</td>\n",
       "      <td>0.768193</td>\n",
       "      <td>0.769069</td>\n",
       "      <td>0.77352</td>\n",
       "      <td>0.769234</td>\n",
       "    </tr>\n",
       "  </tbody>\n",
       "</table>\n",
       "</div>"
      ],
      "text/plain": [
       "       test_f1_macro  test_f1_weighted  test_recall_macro  \\\n",
       "TFIDF       0.798439          0.798454           0.798949   \n",
       "COUNT       0.768158          0.768193           0.769069   \n",
       "\n",
       "       test_precision_macro  test_accuracy  \n",
       "TFIDF               0.80190       0.799000  \n",
       "COUNT               0.77352       0.769234  "
      ]
     },
     "execution_count": 288,
     "metadata": {},
     "output_type": "execute_result"
    }
   ],
   "source": [
    "# scores TFIDF Vectorizer\n",
    "scores_tfidf = cross_validate(RandomForestClassifier(random_state=42), dados_tfidf, target_encoded, cv=5,\n",
    "                        scoring=('f1_macro', 'f1_weighted', 'recall_macro', 'precision_macro', 'accuracy'))\n",
    "scores_tfidf = pd.DataFrame.from_dict(scores_tfidf)\n",
    "\n",
    "# scores Count Vectorizer\n",
    "scores_count = cross_validate(RandomForestClassifier(random_state=42), dados_count, target_encoded, cv=5,\n",
    "                        scoring=('f1_macro', 'f1_weighted', 'recall_macro', 'precision_macro', 'accuracy'))\n",
    "scores_count = pd.DataFrame.from_dict(scores_count)\n",
    "\n",
    "scores_tfidf = pd.DataFrame(scores_tfidf.mean()).T\n",
    "scores_count = pd.DataFrame(scores_count.mean()).T\n",
    "scores = pd.concat([scores_tfidf, scores_count])\n",
    "scores.index = ['TFIDF', 'COUNT']\n",
    "scores.drop(columns=['fit_time', 'score_time'], inplace=True)\n",
    "scores"
   ]
  },
  {
   "cell_type": "code",
   "execution_count": 289,
   "metadata": {},
   "outputs": [
    {
     "data": {
      "text/html": [
       "<div>\n",
       "<style scoped>\n",
       "    .dataframe tbody tr th:only-of-type {\n",
       "        vertical-align: middle;\n",
       "    }\n",
       "\n",
       "    .dataframe tbody tr th {\n",
       "        vertical-align: top;\n",
       "    }\n",
       "\n",
       "    .dataframe thead th {\n",
       "        text-align: right;\n",
       "    }\n",
       "</style>\n",
       "<table border=\"1\" class=\"dataframe\">\n",
       "  <thead>\n",
       "    <tr style=\"text-align: right;\">\n",
       "      <th></th>\n",
       "      <th>test_f1_macro</th>\n",
       "      <th>test_f1_weighted</th>\n",
       "      <th>test_recall_macro</th>\n",
       "      <th>test_precision_macro</th>\n",
       "      <th>test_accuracy</th>\n",
       "    </tr>\n",
       "  </thead>\n",
       "  <tbody>\n",
       "    <tr>\n",
       "      <th>TFIDF</th>\n",
       "      <td>0.781863</td>\n",
       "      <td>0.781864</td>\n",
       "      <td>0.785435</td>\n",
       "      <td>0.799394</td>\n",
       "      <td>0.785413</td>\n",
       "    </tr>\n",
       "    <tr>\n",
       "      <th>COUNT</th>\n",
       "      <td>0.788078</td>\n",
       "      <td>0.788064</td>\n",
       "      <td>0.788363</td>\n",
       "      <td>0.789041</td>\n",
       "      <td>0.788227</td>\n",
       "    </tr>\n",
       "  </tbody>\n",
       "</table>\n",
       "</div>"
      ],
      "text/plain": [
       "       test_f1_macro  test_f1_weighted  test_recall_macro  \\\n",
       "TFIDF       0.781863          0.781864           0.785435   \n",
       "COUNT       0.788078          0.788064           0.788363   \n",
       "\n",
       "       test_precision_macro  test_accuracy  \n",
       "TFIDF              0.799394       0.785413  \n",
       "COUNT              0.789041       0.788227  "
      ]
     },
     "execution_count": 289,
     "metadata": {},
     "output_type": "execute_result"
    }
   ],
   "source": [
    "# scores TFIDF Vectorizer\n",
    "scores_tfidf = cross_validate(SGDClassifier(random_state=42), dados_tfidf, target_encoded, cv=5,\n",
    "                        scoring=('f1_macro', 'f1_weighted', 'recall_macro', 'precision_macro', 'accuracy'))\n",
    "scores_tfidf = pd.DataFrame.from_dict(scores_tfidf)\n",
    "\n",
    "# scores Count Vectorizer\n",
    "scores_count = cross_validate(SGDClassifier(random_state=42), dados_count, target_encoded, cv=5,\n",
    "                        scoring=('f1_macro', 'f1_weighted', 'recall_macro', 'precision_macro', 'accuracy'))\n",
    "scores_count = pd.DataFrame.from_dict(scores_count)\n",
    "\n",
    "scores_tfidf = pd.DataFrame(scores_tfidf.mean()).T\n",
    "scores_count = pd.DataFrame(scores_count.mean()).T\n",
    "scores = pd.concat([scores_tfidf, scores_count])\n",
    "scores.index = ['TFIDF', 'COUNT']\n",
    "scores.drop(columns=['fit_time', 'score_time'], inplace=True)\n",
    "scores"
   ]
  },
  {
   "cell_type": "code",
   "execution_count": 290,
   "metadata": {},
   "outputs": [
    {
     "data": {
      "text/html": [
       "<div>\n",
       "<style scoped>\n",
       "    .dataframe tbody tr th:only-of-type {\n",
       "        vertical-align: middle;\n",
       "    }\n",
       "\n",
       "    .dataframe tbody tr th {\n",
       "        vertical-align: top;\n",
       "    }\n",
       "\n",
       "    .dataframe thead th {\n",
       "        text-align: right;\n",
       "    }\n",
       "</style>\n",
       "<table border=\"1\" class=\"dataframe\">\n",
       "  <thead>\n",
       "    <tr style=\"text-align: right;\">\n",
       "      <th></th>\n",
       "      <th>test_f1_macro</th>\n",
       "      <th>test_f1_weighted</th>\n",
       "      <th>test_recall_macro</th>\n",
       "      <th>test_precision_macro</th>\n",
       "      <th>test_accuracy</th>\n",
       "    </tr>\n",
       "  </thead>\n",
       "  <tbody>\n",
       "    <tr>\n",
       "      <th>TFIDF</th>\n",
       "      <td>0.760057</td>\n",
       "      <td>0.760015</td>\n",
       "      <td>0.761111</td>\n",
       "      <td>0.764645</td>\n",
       "      <td>0.760866</td>\n",
       "    </tr>\n",
       "    <tr>\n",
       "      <th>COUNT</th>\n",
       "      <td>0.736872</td>\n",
       "      <td>0.736775</td>\n",
       "      <td>0.739565</td>\n",
       "      <td>0.746453</td>\n",
       "      <td>0.739282</td>\n",
       "    </tr>\n",
       "  </tbody>\n",
       "</table>\n",
       "</div>"
      ],
      "text/plain": [
       "       test_f1_macro  test_f1_weighted  test_recall_macro  \\\n",
       "TFIDF       0.760057          0.760015           0.761111   \n",
       "COUNT       0.736872          0.736775           0.739565   \n",
       "\n",
       "       test_precision_macro  test_accuracy  \n",
       "TFIDF              0.764645       0.760866  \n",
       "COUNT              0.746453       0.739282  "
      ]
     },
     "execution_count": 290,
     "metadata": {},
     "output_type": "execute_result"
    }
   ],
   "source": [
    "from sklearn.ensemble import GradientBoostingClassifier\n",
    "# scores TFIDF Vectorizer\n",
    "scores_tfidf = cross_validate(GradientBoostingClassifier(random_state=42), dados_tfidf, target_encoded, cv=5,\n",
    "                        scoring=('f1_macro', 'f1_weighted', 'recall_macro', 'precision_macro', 'accuracy'))\n",
    "scores_tfidf = pd.DataFrame.from_dict(scores_tfidf)\n",
    "\n",
    "# scores Count Vectorizer\n",
    "scores_count = cross_validate(GradientBoostingClassifier(random_state=42), dados_count, target_encoded, cv=5,\n",
    "                        scoring=('f1_macro', 'f1_weighted', 'recall_macro', 'precision_macro', 'accuracy'))\n",
    "scores_count = pd.DataFrame.from_dict(scores_count)\n",
    "\n",
    "scores_tfidf = pd.DataFrame(scores_tfidf.mean()).T\n",
    "scores_count = pd.DataFrame(scores_count.mean()).T\n",
    "scores = pd.concat([scores_tfidf, scores_count])\n",
    "scores.index = ['TFIDF', 'COUNT']\n",
    "scores.drop(columns=['fit_time', 'score_time'], inplace=True)\n",
    "scores"
   ]
  },
  {
   "cell_type": "code",
   "execution_count": 291,
   "metadata": {},
   "outputs": [
    {
     "data": {
      "text/html": [
       "<div>\n",
       "<style scoped>\n",
       "    .dataframe tbody tr th:only-of-type {\n",
       "        vertical-align: middle;\n",
       "    }\n",
       "\n",
       "    .dataframe tbody tr th {\n",
       "        vertical-align: top;\n",
       "    }\n",
       "\n",
       "    .dataframe thead th {\n",
       "        text-align: right;\n",
       "    }\n",
       "</style>\n",
       "<table border=\"1\" class=\"dataframe\">\n",
       "  <thead>\n",
       "    <tr style=\"text-align: right;\">\n",
       "      <th></th>\n",
       "      <th>test_f1_macro</th>\n",
       "      <th>test_f1_weighted</th>\n",
       "      <th>test_recall_macro</th>\n",
       "      <th>test_precision_macro</th>\n",
       "      <th>test_accuracy</th>\n",
       "    </tr>\n",
       "  </thead>\n",
       "  <tbody>\n",
       "    <tr>\n",
       "      <th>TFIDF</th>\n",
       "      <td>0.809610</td>\n",
       "      <td>0.809618</td>\n",
       "      <td>0.810060</td>\n",
       "      <td>0.812794</td>\n",
       "      <td>0.810033</td>\n",
       "    </tr>\n",
       "    <tr>\n",
       "      <th>COUNT</th>\n",
       "      <td>0.790114</td>\n",
       "      <td>0.790108</td>\n",
       "      <td>0.790916</td>\n",
       "      <td>0.794471</td>\n",
       "      <td>0.790855</td>\n",
       "    </tr>\n",
       "  </tbody>\n",
       "</table>\n",
       "</div>"
      ],
      "text/plain": [
       "       test_f1_macro  test_f1_weighted  test_recall_macro  \\\n",
       "TFIDF       0.809610          0.809618           0.810060   \n",
       "COUNT       0.790114          0.790108           0.790916   \n",
       "\n",
       "       test_precision_macro  test_accuracy  \n",
       "TFIDF              0.812794       0.810033  \n",
       "COUNT              0.794471       0.790855  "
      ]
     },
     "execution_count": 291,
     "metadata": {},
     "output_type": "execute_result"
    }
   ],
   "source": [
    "# scores TFIDF Vectorizer\n",
    "scores_tfidf = cross_validate(LogisticRegression(random_state=42), dados_tfidf, target_encoded, cv=5,\n",
    "                        scoring=('f1_macro', 'f1_weighted', 'recall_macro', 'precision_macro', 'accuracy'))\n",
    "scores_tfidf = pd.DataFrame.from_dict(scores_tfidf)\n",
    "\n",
    "# scores Count Vectorizer\n",
    "scores_count = cross_validate(LogisticRegression(random_state=42), dados_count, target_encoded, cv=5,\n",
    "                        scoring=('f1_macro', 'f1_weighted', 'recall_macro', 'precision_macro', 'accuracy'))\n",
    "scores_count = pd.DataFrame.from_dict(scores_count)\n",
    "\n",
    "scores_tfidf = pd.DataFrame(scores_tfidf.mean()).T\n",
    "scores_count = pd.DataFrame(scores_count.mean()).T\n",
    "scores = pd.concat([scores_tfidf, scores_count])\n",
    "scores.index = ['TFIDF', 'COUNT']\n",
    "scores.drop(columns=['fit_time', 'score_time'], inplace=True)\n",
    "scores"
   ]
  },
  {
   "cell_type": "markdown",
   "metadata": {},
   "source": [
    "#### Décimo Modelo (linhas e palavras irrelevantes)"
   ]
  },
  {
   "cell_type": "markdown",
   "metadata": {},
   "source": [
    "#### Linhas"
   ]
  },
  {
   "cell_type": "code",
   "execution_count": 322,
   "metadata": {},
   "outputs": [],
   "source": [
    "dados = dados[dados['Contagem_palavras'] > 2]"
   ]
  },
  {
   "cell_type": "code",
   "execution_count": 323,
   "metadata": {},
   "outputs": [],
   "source": [
    "# função para transformar o texto em Matrix Count e TFIDF\n",
    "def bow(feedbacks):\n",
    "    bag_of_words_transformer = TfidfVectorizer()\n",
    "    mx = bag_of_words_transformer.fit_transform(feedbacks).todense()\n",
    "    terms = bag_of_words_transformer.get_feature_names()\n",
    "    dados_tfidf = pd.DataFrame(mx, columns=terms, index=feedbacks)\n",
    "    \n",
    "    return (dados_tfidf)"
   ]
  },
  {
   "cell_type": "code",
   "execution_count": 324,
   "metadata": {},
   "outputs": [],
   "source": [
    "feedback_lem = dados['Feedback'].apply(lambda x: Lemmatization(x))\n",
    "dados_tfidf = bow(feedback_lem)\n",
    "target_encoded = dados['target_encoded']"
   ]
  },
  {
   "cell_type": "code",
   "execution_count": 325,
   "metadata": {},
   "outputs": [],
   "source": [
    "dados_tfidf = bow(feedback_lem)"
   ]
  },
  {
   "cell_type": "code",
   "execution_count": 326,
   "metadata": {},
   "outputs": [
    {
     "data": {
      "text/html": [
       "<div>\n",
       "<style scoped>\n",
       "    .dataframe tbody tr th:only-of-type {\n",
       "        vertical-align: middle;\n",
       "    }\n",
       "\n",
       "    .dataframe tbody tr th {\n",
       "        vertical-align: top;\n",
       "    }\n",
       "\n",
       "    .dataframe thead th {\n",
       "        text-align: right;\n",
       "    }\n",
       "</style>\n",
       "<table border=\"1\" class=\"dataframe\">\n",
       "  <thead>\n",
       "    <tr style=\"text-align: right;\">\n",
       "      <th></th>\n",
       "      <th>test_f1_macro</th>\n",
       "      <th>test_f1_weighted</th>\n",
       "      <th>test_recall_macro</th>\n",
       "      <th>test_precision_macro</th>\n",
       "      <th>test_accuracy</th>\n",
       "    </tr>\n",
       "  </thead>\n",
       "  <tbody>\n",
       "    <tr>\n",
       "      <th>TFIDF</th>\n",
       "      <td>0.831217</td>\n",
       "      <td>0.831353</td>\n",
       "      <td>0.831167</td>\n",
       "      <td>0.833537</td>\n",
       "      <td>0.831659</td>\n",
       "    </tr>\n",
       "  </tbody>\n",
       "</table>\n",
       "</div>"
      ],
      "text/plain": [
       "       test_f1_macro  test_f1_weighted  test_recall_macro  \\\n",
       "TFIDF       0.831217          0.831353           0.831167   \n",
       "\n",
       "       test_precision_macro  test_accuracy  \n",
       "TFIDF              0.833537       0.831659  "
      ]
     },
     "execution_count": 326,
     "metadata": {},
     "output_type": "execute_result"
    }
   ],
   "source": [
    "# scores TFIDF Vectorizer\n",
    "scores_tfidf = cross_validate(svc, dados_tfidf, target_encoded, cv=5,\n",
    "                        scoring=('f1_macro', 'f1_weighted', 'recall_macro', 'precision_macro', 'accuracy'))\n",
    "\n",
    "scores_tfidf = pd.DataFrame.from_dict(scores_tfidf)\n",
    "\n",
    "scores_tfidf = pd.DataFrame(scores_tfidf.mean()).T\n",
    "scores_tfidf.index = ['TFIDF']\n",
    "scores_tfidf.drop(columns=['fit_time', 'score_time'], inplace=True)\n",
    "scores_tfidf"
   ]
  },
  {
   "cell_type": "markdown",
   "metadata": {},
   "source": [
    "#### Palavras"
   ]
  },
  {
   "cell_type": "code",
   "execution_count": 327,
   "metadata": {},
   "outputs": [],
   "source": [
    "def RemoveStopWords(feedback):\n",
    "    palavras = [i for i in feedback.split() if not i in corr_palavras]\n",
    "    return (\" \".join(palavras))"
   ]
  },
  {
   "cell_type": "code",
   "execution_count": 328,
   "metadata": {},
   "outputs": [],
   "source": [
    "dados_corr = dados_tfidf.copy()\n",
    "dados_corr['target_encoded'] = list(target_encoded)"
   ]
  },
  {
   "cell_type": "code",
   "execution_count": 364,
   "metadata": {
    "scrolled": true
   },
   "outputs": [],
   "source": [
    "corr = dados_corr.corr()\n",
    "corr_palavras = list(corr[(corr['target_encoded'] < 0.06) & (corr['target_encoded'] > -0.06)].index)"
   ]
  },
  {
   "cell_type": "code",
   "execution_count": 365,
   "metadata": {},
   "outputs": [],
   "source": [
    "lista_feedback = []\n",
    "lista_feedback = [RemoveStopWords(feedback) for feedback in dados.Feedback]"
   ]
  },
  {
   "cell_type": "code",
   "execution_count": 366,
   "metadata": {},
   "outputs": [],
   "source": [
    "dados['Feedback_palavras_irrelevantes'] = lista_feedback"
   ]
  },
  {
   "cell_type": "code",
   "execution_count": 367,
   "metadata": {},
   "outputs": [],
   "source": [
    "feedback_lem = dados['Feedback_palavras_irrelevantes'].apply(lambda x: Lemmatization(x))\n",
    "dados_tfidf = bow(feedback_lem)"
   ]
  },
  {
   "cell_type": "code",
   "execution_count": 368,
   "metadata": {},
   "outputs": [
    {
     "data": {
      "text/html": [
       "<div>\n",
       "<style scoped>\n",
       "    .dataframe tbody tr th:only-of-type {\n",
       "        vertical-align: middle;\n",
       "    }\n",
       "\n",
       "    .dataframe tbody tr th {\n",
       "        vertical-align: top;\n",
       "    }\n",
       "\n",
       "    .dataframe thead th {\n",
       "        text-align: right;\n",
       "    }\n",
       "</style>\n",
       "<table border=\"1\" class=\"dataframe\">\n",
       "  <thead>\n",
       "    <tr style=\"text-align: right;\">\n",
       "      <th></th>\n",
       "      <th>test_f1_macro</th>\n",
       "      <th>test_f1_weighted</th>\n",
       "      <th>test_recall_macro</th>\n",
       "      <th>test_precision_macro</th>\n",
       "      <th>test_accuracy</th>\n",
       "    </tr>\n",
       "  </thead>\n",
       "  <tbody>\n",
       "    <tr>\n",
       "      <th>TFIDF</th>\n",
       "      <td>0.881014</td>\n",
       "      <td>0.881117</td>\n",
       "      <td>0.880809</td>\n",
       "      <td>0.88535</td>\n",
       "      <td>0.881431</td>\n",
       "    </tr>\n",
       "  </tbody>\n",
       "</table>\n",
       "</div>"
      ],
      "text/plain": [
       "       test_f1_macro  test_f1_weighted  test_recall_macro  \\\n",
       "TFIDF       0.881014          0.881117           0.880809   \n",
       "\n",
       "       test_precision_macro  test_accuracy  \n",
       "TFIDF               0.88535       0.881431  "
      ]
     },
     "execution_count": 368,
     "metadata": {},
     "output_type": "execute_result"
    }
   ],
   "source": [
    "# scores TFIDF Vectorizer\n",
    "scores_tfidf = cross_validate(svc, dados_tfidf, target_encoded, cv=5,\n",
    "                        scoring=('f1_macro', 'f1_weighted', 'recall_macro', 'precision_macro', 'accuracy'))\n",
    "\n",
    "scores_tfidf = pd.DataFrame.from_dict(scores_tfidf)\n",
    "\n",
    "scores_tfidf = pd.DataFrame(scores_tfidf.mean()).T\n",
    "scores_tfidf.index = ['TFIDF']\n",
    "scores_tfidf.drop(columns=['fit_time', 'score_time'], inplace=True)\n",
    "scores_tfidf"
   ]
  },
  {
   "cell_type": "markdown",
   "metadata": {},
   "source": [
    "#### Décimo Primeiro Modelo (Testando parâmetros do Modelo)"
   ]
  },
  {
   "cell_type": "code",
   "execution_count": 369,
   "metadata": {},
   "outputs": [],
   "source": [
    "from sklearn.pipeline import Pipeline"
   ]
  },
  {
   "cell_type": "code",
   "execution_count": 370,
   "metadata": {},
   "outputs": [],
   "source": [
    "stopwords = list(stopwords)\n",
    "stopwords_x = stopwords.append(stopwords_spacy)"
   ]
  },
  {
   "cell_type": "markdown",
   "metadata": {},
   "source": [
    "#### Parâmetros TFIDF"
   ]
  },
  {
   "cell_type": "code",
   "execution_count": 306,
   "metadata": {},
   "outputs": [],
   "source": [
    "pipeline = Pipeline([\n",
    " ('tfidf', TfidfVectorizer()),\n",
    " ('svc', SVC(random_state=42))\n",
    "])\n",
    "\n",
    "parameters = {\n",
    "    #'tfidf__stop_words': [stopwords, stopwords_spacy, stopwords_x, None],\n",
    "    'tfidf__max_df': (0.75, 1.0, 1.5),\n",
    "    #'tfidf__min_df': (0.5, 0.75, 1.0),\n",
    "    'tfidf__max_features': (500, 550, 600),\n",
    "    'tfidf__ngram_range': ((1, 1), (2, 2)),  # unigrams or bigrams\n",
    "    'tfidf__vocabulary': ('Mapping', 'iterable', None),\n",
    "    'tfidf__binary': (True, False),\n",
    "    'tfidf__use_idf': (True, False),\n",
    "    'tfidf__norm': ('l1', 'l2'),\n",
    "    'tfidf__smooth_idf': (True, False),\n",
    "    'tfidf__sublinear_tf': (True, False),\n",
    "    \n",
    "    #'svc__C': [0.1, 1, 10, 100, 1000],\n",
    "    #'svc__kernel': ('linear', 'poly', 'rbf', 'sigmoid', 'precomputed'),\n",
    "    #'svc__degree': (2, 3, 4),\n",
    "    #'svc__gamma': ('scale', 'auto', 1, 0.1, 0.01, 0.001, 0.0001),\n",
    "    #'svc__coef0': (1.0, 2.0),\n",
    "    #'svc__shrinking': (True, False),\n",
    "    #'svc__probabilityclass_weight': (True, False),\n",
    "    #'svc__tol': (1, 0.1, 0.01, 0.001, 0.0001),\n",
    "    #'svc__cache_size': (100, 200, 300),\n",
    "    #'svc__class_weight': ('balanced', None),\n",
    "    #'svc__verbose': (True, False),\n",
    "    #'svc__max_iter: (-1, 1, 2)\n",
    "    #'svc__decision_function_shape: ('ovo', 'ovr')\n",
    "    #'svc__break_ties: (True, False)\n",
    "}"
   ]
  },
  {
   "cell_type": "code",
   "execution_count": 307,
   "metadata": {},
   "outputs": [],
   "source": [
    "from sklearn.model_selection import GridSearchCV"
   ]
  },
  {
   "cell_type": "code",
   "execution_count": 308,
   "metadata": {},
   "outputs": [],
   "source": [
    "gs_clf = GridSearchCV(pipeline, parameters, cv=5, n_jobs=-1)"
   ]
  },
  {
   "cell_type": "code",
   "execution_count": 309,
   "metadata": {},
   "outputs": [],
   "source": [
    "# gs_clf = gs_clf.fit(feedback_lem.values, target_encoded.values)\n",
    "# gs_clf.best_params_"
   ]
  },
  {
   "cell_type": "code",
   "execution_count": 310,
   "metadata": {},
   "outputs": [],
   "source": [
    "svc = SVC(random_state=42)"
   ]
  },
  {
   "cell_type": "code",
   "execution_count": 311,
   "metadata": {},
   "outputs": [],
   "source": [
    "# função para transformar o texto em Matrix Count e TFIDF\n",
    "def bow(feedbacks):\n",
    "    bag_of_words_transformer = TfidfVectorizer(binary=True, max_df=0.75, max_features=550,\n",
    "                                               smooth_idf=False, sublinear_tf=True)\n",
    "    mx = bag_of_words_transformer.fit_transform(feedbacks).todense()\n",
    "    terms = bag_of_words_transformer.get_feature_names()\n",
    "    dados_tfidf = pd.DataFrame(mx, columns=terms, index=feedbacks)\n",
    "    \n",
    "    return (dados_tfidf)"
   ]
  },
  {
   "cell_type": "code",
   "execution_count": 312,
   "metadata": {},
   "outputs": [],
   "source": [
    "dados_tfidf = bow(feedback_lem)"
   ]
  },
  {
   "cell_type": "code",
   "execution_count": 313,
   "metadata": {},
   "outputs": [
    {
     "data": {
      "text/html": [
       "<div>\n",
       "<style scoped>\n",
       "    .dataframe tbody tr th:only-of-type {\n",
       "        vertical-align: middle;\n",
       "    }\n",
       "\n",
       "    .dataframe tbody tr th {\n",
       "        vertical-align: top;\n",
       "    }\n",
       "\n",
       "    .dataframe thead th {\n",
       "        text-align: right;\n",
       "    }\n",
       "</style>\n",
       "<table border=\"1\" class=\"dataframe\">\n",
       "  <thead>\n",
       "    <tr style=\"text-align: right;\">\n",
       "      <th></th>\n",
       "      <th>test_f1_macro</th>\n",
       "      <th>test_f1_weighted</th>\n",
       "      <th>test_recall_macro</th>\n",
       "      <th>test_precision_macro</th>\n",
       "      <th>test_accuracy</th>\n",
       "    </tr>\n",
       "  </thead>\n",
       "  <tbody>\n",
       "    <tr>\n",
       "      <th>TFIDF</th>\n",
       "      <td>0.886667</td>\n",
       "      <td>0.886765</td>\n",
       "      <td>0.886373</td>\n",
       "      <td>0.889691</td>\n",
       "      <td>0.886986</td>\n",
       "    </tr>\n",
       "  </tbody>\n",
       "</table>\n",
       "</div>"
      ],
      "text/plain": [
       "       test_f1_macro  test_f1_weighted  test_recall_macro  \\\n",
       "TFIDF       0.886667          0.886765           0.886373   \n",
       "\n",
       "       test_precision_macro  test_accuracy  \n",
       "TFIDF              0.889691       0.886986  "
      ]
     },
     "execution_count": 313,
     "metadata": {},
     "output_type": "execute_result"
    }
   ],
   "source": [
    "# scores TFIDF Vectorizer\n",
    "scores_tfidf = cross_validate(svc, dados_tfidf, target_encoded, cv=5,\n",
    "                        scoring=('f1_macro', 'f1_weighted', 'recall_macro', 'precision_macro', 'accuracy'))\n",
    "\n",
    "scores_tfidf = pd.DataFrame.from_dict(scores_tfidf)\n",
    "\n",
    "scores_tfidf = pd.DataFrame(scores_tfidf.mean()).T\n",
    "scores_tfidf.index = ['TFIDF']\n",
    "scores_tfidf.drop(columns=['fit_time', 'score_time'], inplace=True)\n",
    "scores_tfidf"
   ]
  },
  {
   "cell_type": "markdown",
   "metadata": {},
   "source": [
    "#### Parâmetros Modelo"
   ]
  },
  {
   "cell_type": "code",
   "execution_count": 314,
   "metadata": {},
   "outputs": [],
   "source": [
    "pipeline = Pipeline([\n",
    " ('tfidf', TfidfVectorizer(binary=True, max_df=0.75, max_features=550,\n",
    "                                               smooth_idf=False, sublinear_tf=True)),\n",
    " ('svc', SVC(random_state=42))\n",
    "])\n",
    "\n",
    "parameters = {\n",
    "    #'tfidf__stop_words': [stopwords, stopwords_spacy, stopwords_x, None],\n",
    "    #'tfidf__max_df': (0.75, 1.0, 1.5),\n",
    "    #'tfidf__min_df': (0.5, 0.75, 1.0),\n",
    "    #'tfidf__max_features': (500, 550, 600),\n",
    "    #'tfidf__ngram_range': ((1, 1), (2, 2)),  # unigrams or bigrams\n",
    "    #'tfidf__vocabulary': ('Mapping', 'iterable', None),\n",
    "    #'tfidf__binary': (True, False),\n",
    "    #'tfidf__use_idf': (True, False),\n",
    "    #'tfidf__norm': ('l1', 'l2'),\n",
    "    #'tfidf__smooth_idf': (True, False),\n",
    "    #'tfidf__sublinear_tf': (True, False),\n",
    "    \n",
    "    'svc__C': [0.1, 1, 10, 100, 1000],\n",
    "   # 'svc__kernel': ('linear', 'poly', 'rbf', 'sigmoid', 'precomputed'),\n",
    "    'svc__degree': (2, 3, 4),\n",
    "    #'svc__gamma': ('scale', 'auto', 1, 0.1, 0.01, 0.001, 0.0001),\n",
    "    #'svc__coef0': (1.0, 2.0),\n",
    "    #'svc__shrinking': (True, False),\n",
    "    'svc__probability': (True, False),\n",
    "    'svc__tol': (1, 0.1, 0.01, 0.001, 0.0001),\n",
    "    #'svc__cache_size': (100, 200, 300),\n",
    "    'svc__class_weight': ('balanced', None),\n",
    "    'svc__verbose': (True, False),\n",
    "    'svc__max_iter': (-1, 1, 2),\n",
    "    #'svc__decision_function_shape': ('ovo', 'ovr'),\n",
    "    #'svc__break_ties': (True, False)\n",
    "}"
   ]
  },
  {
   "cell_type": "code",
   "execution_count": 315,
   "metadata": {},
   "outputs": [],
   "source": [
    "gs_clf = GridSearchCV(pipeline, parameters, cv=5, n_jobs=-1)"
   ]
  },
  {
   "cell_type": "code",
   "execution_count": 316,
   "metadata": {},
   "outputs": [],
   "source": [
    "# gs_clf = gs_clf.fit(feedback_lem.values, target_encoded.values)\n",
    "# gs_clf.best_params_"
   ]
  },
  {
   "cell_type": "code",
   "execution_count": 317,
   "metadata": {},
   "outputs": [],
   "source": [
    "svc = SVC(random_state=42)"
   ]
  },
  {
   "cell_type": "code",
   "execution_count": 318,
   "metadata": {},
   "outputs": [],
   "source": [
    "# função para transformar o texto em Matrix Count e TFIDF\n",
    "def bow(feedbacks):\n",
    "    bag_of_words_transformer = TfidfVectorizer(binary=True, max_df=0.75, max_features=550,\n",
    "                                               smooth_idf=False, sublinear_tf=True)\n",
    "    mx = bag_of_words_transformer.fit_transform(feedbacks).todense()\n",
    "    terms = bag_of_words_transformer.get_feature_names()\n",
    "    dados_tfidf = pd.DataFrame(mx, columns=terms, index=feedbacks)\n",
    "    \n",
    "    return (dados_tfidf)"
   ]
  },
  {
   "cell_type": "code",
   "execution_count": 319,
   "metadata": {},
   "outputs": [
    {
     "data": {
      "text/html": [
       "<div>\n",
       "<style scoped>\n",
       "    .dataframe tbody tr th:only-of-type {\n",
       "        vertical-align: middle;\n",
       "    }\n",
       "\n",
       "    .dataframe tbody tr th {\n",
       "        vertical-align: top;\n",
       "    }\n",
       "\n",
       "    .dataframe thead th {\n",
       "        text-align: right;\n",
       "    }\n",
       "</style>\n",
       "<table border=\"1\" class=\"dataframe\">\n",
       "  <thead>\n",
       "    <tr style=\"text-align: right;\">\n",
       "      <th></th>\n",
       "      <th>test_f1_macro</th>\n",
       "      <th>test_f1_weighted</th>\n",
       "      <th>test_recall_macro</th>\n",
       "      <th>test_precision_macro</th>\n",
       "      <th>test_accuracy</th>\n",
       "    </tr>\n",
       "  </thead>\n",
       "  <tbody>\n",
       "    <tr>\n",
       "      <th>TFIDF</th>\n",
       "      <td>0.886667</td>\n",
       "      <td>0.886765</td>\n",
       "      <td>0.886373</td>\n",
       "      <td>0.889691</td>\n",
       "      <td>0.886986</td>\n",
       "    </tr>\n",
       "  </tbody>\n",
       "</table>\n",
       "</div>"
      ],
      "text/plain": [
       "       test_f1_macro  test_f1_weighted  test_recall_macro  \\\n",
       "TFIDF       0.886667          0.886765           0.886373   \n",
       "\n",
       "       test_precision_macro  test_accuracy  \n",
       "TFIDF              0.889691       0.886986  "
      ]
     },
     "execution_count": 319,
     "metadata": {},
     "output_type": "execute_result"
    }
   ],
   "source": [
    "# scores TFIDF Vectorizer\n",
    "scores_tfidf = cross_validate(svc, dados_tfidf, target_encoded, cv=5,\n",
    "                        scoring=('f1_macro', 'f1_weighted', 'recall_macro', 'precision_macro', 'accuracy'))\n",
    "\n",
    "scores_tfidf = pd.DataFrame.from_dict(scores_tfidf)\n",
    "\n",
    "scores_tfidf = pd.DataFrame(scores_tfidf.mean()).T\n",
    "scores_tfidf.index = ['TFIDF']\n",
    "scores_tfidf.drop(columns=['fit_time', 'score_time'], inplace=True)\n",
    "scores_tfidf"
   ]
  },
  {
   "cell_type": "markdown",
   "metadata": {},
   "source": [
    "#### Décimo Primeiro Modelo (Testando pos tagging)"
   ]
  },
  {
   "cell_type": "code",
   "execution_count": 320,
   "metadata": {},
   "outputs": [],
   "source": [
    "feedback_postag = feedback_lem.apply(lambda x: get_postags(x))\n",
    "dados['feedback_postag'] = feedback_postag"
   ]
  },
  {
   "cell_type": "code",
   "execution_count": 321,
   "metadata": {},
   "outputs": [],
   "source": [
    "dados_tfidf_postag = bow(feedback_postag)"
   ]
  },
  {
   "cell_type": "code",
   "execution_count": 322,
   "metadata": {},
   "outputs": [
    {
     "data": {
      "text/html": [
       "<div>\n",
       "<style scoped>\n",
       "    .dataframe tbody tr th:only-of-type {\n",
       "        vertical-align: middle;\n",
       "    }\n",
       "\n",
       "    .dataframe tbody tr th {\n",
       "        vertical-align: top;\n",
       "    }\n",
       "\n",
       "    .dataframe thead th {\n",
       "        text-align: right;\n",
       "    }\n",
       "</style>\n",
       "<table border=\"1\" class=\"dataframe\">\n",
       "  <thead>\n",
       "    <tr style=\"text-align: right;\">\n",
       "      <th></th>\n",
       "      <th>test_f1_macro</th>\n",
       "      <th>test_f1_weighted</th>\n",
       "      <th>test_recall_macro</th>\n",
       "      <th>test_precision_macro</th>\n",
       "      <th>test_accuracy</th>\n",
       "    </tr>\n",
       "  </thead>\n",
       "  <tbody>\n",
       "    <tr>\n",
       "      <th>TFIDF</th>\n",
       "      <td>0.867489</td>\n",
       "      <td>0.867567</td>\n",
       "      <td>0.867304</td>\n",
       "      <td>0.869523</td>\n",
       "      <td>0.867694</td>\n",
       "    </tr>\n",
       "  </tbody>\n",
       "</table>\n",
       "</div>"
      ],
      "text/plain": [
       "       test_f1_macro  test_f1_weighted  test_recall_macro  \\\n",
       "TFIDF       0.867489          0.867567           0.867304   \n",
       "\n",
       "       test_precision_macro  test_accuracy  \n",
       "TFIDF              0.869523       0.867694  "
      ]
     },
     "execution_count": 322,
     "metadata": {},
     "output_type": "execute_result"
    }
   ],
   "source": [
    "# scores TFIDF Vectorizer\n",
    "scores_tfidf = cross_validate(LogisticRegression(random_state=42), dados_tfidf_postag, target_encoded, cv=5,\n",
    "                        scoring=('f1_macro', 'f1_weighted', 'recall_macro', 'precision_macro', 'accuracy'))\n",
    "scores_tfidf = pd.DataFrame.from_dict(scores_tfidf)\n",
    "\n",
    "scores_tfidf = pd.DataFrame(scores_tfidf.mean()).T\n",
    "scores_tfidf.index = ['TFIDF']\n",
    "scores_tfidf.drop(columns=['fit_time', 'score_time'], inplace=True)\n",
    "scores_tfidf"
   ]
  }
 ],
 "metadata": {
  "kernelspec": {
   "display_name": "Python 3",
   "language": "python",
   "name": "python3"
  },
  "language_info": {
   "codemirror_mode": {
    "name": "ipython",
    "version": 3
   },
   "file_extension": ".py",
   "mimetype": "text/x-python",
   "name": "python",
   "nbconvert_exporter": "python",
   "pygments_lexer": "ipython3",
   "version": "3.8.5"
  }
 },
 "nbformat": 4,
 "nbformat_minor": 2
}
